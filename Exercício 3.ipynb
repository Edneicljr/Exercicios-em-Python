{
 "cells": [
  {
   "cell_type": "code",
   "execution_count": 22,
   "id": "a6a3a610",
   "metadata": {},
   "outputs": [
    {
     "name": "stdout",
     "output_type": "stream",
     "text": [
      "[1, 1, 2, 3, 5]\n"
     ]
    }
   ],
   "source": [
    "# O programa analisa uma lista e retorna os valores da lista menores do que 5\n",
    "\n",
    "a = [1, 1, 2, 3, 5, 8, 13, 21, 34, 55, 89]\n",
    "\n",
    "indicie = 0 \n",
    "\n",
    "while indicie < len(a):\n",
    "\n",
    "    if a[indicie] <= 5:\n",
    "   \n",
    "        print(a[indicie])\n",
    "\n",
    "indicie = indicie + 1\n",
    "\n"
   ]
  },
  {
   "cell_type": "code",
   "execution_count": null,
   "id": "88d8a204",
   "metadata": {},
   "outputs": [],
   "source": [
    "#O programa armazena os valores da lista que são menores do que 5 em uma outra lista e retorna essa lista\n",
    "a = [1, 1, 2, 3, 5, 8, 13, 21, 34, 55, 89]\n",
    "b = []\n",
    "indicie = 0 \n",
    "\n",
    "while indicie < len(a):\n",
    "\n",
    "    if a[indicie] <= 5:\n",
    "       \n",
    "       b.append(a[indicie])\n",
    "\n",
    "    indicie = indicie + 1\n",
    "print(b)"
   ]
  },
  {
   "cell_type": "code",
   "execution_count": 31,
   "id": "87d1bedf",
   "metadata": {},
   "outputs": [
    {
     "name": "stdout",
     "output_type": "stream",
     "text": [
      "Digite um número: 50\n",
      "[1, 1, 2, 3, 5, 8, 13, 21, 34]\n"
     ]
    }
   ],
   "source": [
    "a = [1, 1, 2, 3, 5, 8, 13, 21, 34, 55, 89]\n",
    "b = [] \n",
    "\n",
    "numero = int(input(\"Digite um número: \"))\n",
    "indicie = 0\n",
    "\n",
    "while indicie < len(a):\n",
    "\n",
    "    if a[indicie] <= numero:\n",
    "       \n",
    "       b.append(a[indicie])\n",
    "\n",
    "    indicie = indicie + 1\n",
    "print(b)"
   ]
  },
  {
   "cell_type": "code",
   "execution_count": 36,
   "id": "0909c1b8",
   "metadata": {},
   "outputs": [
    {
     "name": "stdout",
     "output_type": "stream",
     "text": [
      "Digite um número: 50\n",
      "[1, 1, 2, 3, 5, 8, 13, 21, 34]\n"
     ]
    }
   ],
   "source": [
    "a = [1, 1, 2, 3, 5, 8, 13, 21, 34, 55, 89]\n",
    "\n",
    "numero = int(input(\"Digite um número: \"))\n",
    "\n",
    "# No Python, esse trecho representa [output] for [item] in [list] if [filter]\n",
    "print([b for b in a if b < numero])"
   ]
  },
  {
   "cell_type": "code",
   "execution_count": 39,
   "id": "a3cdcf34",
   "metadata": {},
   "outputs": [
    {
     "name": "stdout",
     "output_type": "stream",
     "text": [
      "this value of this index is less than 5 and it is 1\n",
      "this value of this index is less than 5 and it is 1\n",
      "this value of this index is less than 5 and it is 2\n",
      "this value of this index is less than 5 and it is 3\n",
      "this value of this index is less than 5 and it is 5\n"
     ]
    }
   ],
   "source": [
    "a = [1, 1, 2, 3, 5, 8, 13, 21, 34, 55, 89]\n",
    "\n",
    "for x in a:\n",
    "    \n",
    "    if x <= 5:\n",
    "        print(f'this value of this index is less than 5 and it is {x}')\n",
    "    else:\n",
    "        pass"
   ]
  },
  {
   "cell_type": "code",
   "execution_count": null,
   "id": "6b07a221",
   "metadata": {},
   "outputs": [],
   "source": []
  }
 ],
 "metadata": {
  "kernelspec": {
   "display_name": "Python 3 (ipykernel)",
   "language": "python",
   "name": "python3"
  },
  "language_info": {
   "codemirror_mode": {
    "name": "ipython",
    "version": 3
   },
   "file_extension": ".py",
   "mimetype": "text/x-python",
   "name": "python",
   "nbconvert_exporter": "python",
   "pygments_lexer": "ipython3",
   "version": "3.9.6"
  }
 },
 "nbformat": 4,
 "nbformat_minor": 5
}
