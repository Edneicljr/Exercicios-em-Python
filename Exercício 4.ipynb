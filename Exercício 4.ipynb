{
 "cells": [
  {
   "cell_type": "code",
   "execution_count": 33,
   "id": "58dc5ae5",
   "metadata": {},
   "outputs": [
    {
     "name": "stdout",
     "output_type": "stream",
     "text": [
      "Digite um número:\n",
      " 50\n",
      "Os números são: \n",
      " [50, 25, 10, 5, 2, 1]\n"
     ]
    }
   ],
   "source": [
    "num = int(input(\"Digite um número:\\n \"))\n",
    "div = num \n",
    "lista = []\n",
    "#Cria um loop com a condição do numero escolhido, até zero:\n",
    "\n",
    "\n",
    "while div > 0:\n",
    "  # Divide esse numero por ele mesmo, e no loop regressivamente até 1, colocando a resposta do resto inteiro em uma lista.\n",
    "    res = num % div\n",
    "    if (res == 0):\n",
    "        lista.append(div)\n",
    "    else:\n",
    "         pass\n",
    "    div = div - 1 \n",
    "\n",
    "#Print a lista\n",
    "\n",
    "print(\"Os números são: \\n\", lista)"
   ]
  },
  {
   "cell_type": "code",
   "execution_count": null,
   "id": "d65bf716",
   "metadata": {},
   "outputs": [],
   "source": []
  },
  {
   "cell_type": "code",
   "execution_count": 40,
   "id": "109f4bc7",
   "metadata": {},
   "outputs": [
    {
     "name": "stdout",
     "output_type": "stream",
     "text": [
      "Digite um número:\n",
      " 50\n",
      "Os números são: \n",
      " [2, 5, 10, 25]\n"
     ]
    }
   ],
   "source": [
    "num1 = int(input(\"Digite um número:\\n \"))\n",
    "div = range(2, num1)\n",
    "lista = []\n",
    "#Cria um loop com a condição do numero escolhido, até zero:\n",
    "\n",
    "\n",
    "\n",
    "for elem in div:\n",
    "  # Divide esse numero por ele mesmo, e no loop regressivamente até 1, colocando a resposta do resto inteiro em uma lista.\n",
    "    res = num1 % elem\n",
    "    if (res == 0):\n",
    "        lista.append(elem)\n",
    "    else:\n",
    "         pass\n",
    "\n",
    "\n",
    "#Print a lista\n",
    "\n",
    "print(\"Os números são: \\n\", lista)"
   ]
  },
  {
   "cell_type": "code",
   "execution_count": null,
   "id": "abdb3ee2",
   "metadata": {},
   "outputs": [],
   "source": []
  }
 ],
 "metadata": {
  "kernelspec": {
   "display_name": "Python 3 (ipykernel)",
   "language": "python",
   "name": "python3"
  },
  "language_info": {
   "codemirror_mode": {
    "name": "ipython",
    "version": 3
   },
   "file_extension": ".py",
   "mimetype": "text/x-python",
   "name": "python",
   "nbconvert_exporter": "python",
   "pygments_lexer": "ipython3",
   "version": "3.9.6"
  }
 },
 "nbformat": 4,
 "nbformat_minor": 5
}
