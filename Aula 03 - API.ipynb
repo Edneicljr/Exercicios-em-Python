{
 "cells": [
  {
   "cell_type": "code",
   "execution_count": 1,
   "id": "94dcda54",
   "metadata": {},
   "outputs": [
    {
     "name": "stdout",
     "output_type": "stream",
     "text": [
      "Requirement already satisfied: requests in c:\\python39\\lib\\site-packages (2.26.0)\n",
      "Requirement already satisfied: charset-normalizer~=2.0.0 in c:\\python39\\lib\\site-packages (from requests) (2.0.3)\n",
      "Requirement already satisfied: urllib3<1.27,>=1.21.1 in c:\\python39\\lib\\site-packages (from requests) (1.26.6)\n",
      "Requirement already satisfied: idna<4,>=2.5 in c:\\python39\\lib\\site-packages (from requests) (3.2)\n",
      "Requirement already satisfied: certifi>=2017.4.17 in c:\\python39\\lib\\site-packages (from requests) (2021.5.30)\n"
     ]
    },
    {
     "name": "stderr",
     "output_type": "stream",
     "text": [
      "WARNING: Ignoring invalid distribution -umpy (c:\\python39\\lib\\site-packages)\n",
      "WARNING: Ignoring invalid distribution -umpy (c:\\python39\\lib\\site-packages)\n",
      "WARNING: Ignoring invalid distribution -umpy (c:\\python39\\lib\\site-packages)\n",
      "WARNING: Ignoring invalid distribution -umpy (c:\\python39\\lib\\site-packages)\n",
      "WARNING: Ignoring invalid distribution -umpy (c:\\python39\\lib\\site-packages)\n"
     ]
    }
   ],
   "source": [
    "!pip install requests"
   ]
  },
  {
   "cell_type": "code",
   "execution_count": 2,
   "id": "e210b14a",
   "metadata": {
    "ExecuteTime": {
     "end_time": "2021-07-20T14:43:07.234605Z",
     "start_time": "2021-07-20T14:43:06.667742Z"
    }
   },
   "outputs": [],
   "source": [
    "import requests"
   ]
  },
  {
   "cell_type": "code",
   "execution_count": 3,
   "id": "3dbb702b",
   "metadata": {
    "ExecuteTime": {
     "end_time": "2021-07-20T14:43:08.372512Z",
     "start_time": "2021-07-20T14:43:07.267748Z"
    }
   },
   "outputs": [
    {
     "name": "stdout",
     "output_type": "stream",
     "text": [
      "200\n"
     ]
    }
   ],
   "source": [
    "url = 'https://api.exchangerate-api.com/v6/latest'\n",
    "\n",
    "req = requests.get(url)\n",
    "\n",
    "print(req.status_code)"
   ]
  },
  {
   "cell_type": "code",
   "execution_count": 4,
   "id": "51ee08bb",
   "metadata": {
    "ExecuteTime": {
     "end_time": "2021-07-20T14:43:08.419531Z",
     "start_time": "2021-07-20T14:43:08.407498Z"
    }
   },
   "outputs": [
    {
     "name": "stdout",
     "output_type": "stream",
     "text": [
      "{'result': 'success', 'provider': 'https://www.exchangerate-api.com', 'documentation': 'https://www.exchangerate-api.com/docs/free', 'WARNING_NEW_ENDPOINT': 'Swap *api.exchangerate-api.com* with *open.er-api.com* for better servers!', 'terms_of_use': 'https://www.exchangerate-api.com/terms', 'time_last_update_unix': 1626739351, 'time_last_update_utc': 'Tue, 20 Jul 2021 00:02:31 +0000', 'time_next_update_unix': 1626827101, 'time_next_update_utc': 'Wed, 21 Jul 2021 00:25:01 +0000', 'time_eol_unix': 0, 'base_code': 'USD', 'rates': {'USD': 1, 'AED': 3.67, 'AFN': 79.3, 'ALL': 103.9, 'AMD': 492.91, 'ANG': 1.79, 'AOA': 646.54, 'ARS': 96.28, 'AUD': 1.36, 'AWG': 1.79, 'AZN': 1.7, 'BAM': 1.66, 'BBD': 2, 'BDT': 84.88, 'BGN': 1.66, 'BHD': 0.376, 'BIF': 1970.18, 'BMD': 1, 'BND': 1.36, 'BOB': 6.89, 'BRL': 5.15, 'BSD': 1, 'BTN': 74.86, 'BWP': 11.04, 'BYN': 2.54, 'BZD': 2, 'CAD': 1.27, 'CDF': 1978.53, 'CHF': 0.919, 'CLP': 756.64, 'CNY': 6.49, 'COP': 3817.02, 'CRC': 619.49, 'CUC': 1, 'CUP': 25.75, 'CVE': 93.32, 'CZK': 21.79, 'DJF': 177.72, 'DKK': 6.31, 'DOP': 57, 'DZD': 134.99, 'EGP': 15.67, 'ERN': 15, 'ETB': 43.84, 'EUR': 0.846, 'FJD': 2.08, 'FKP': 0.729, 'FOK': 6.31, 'GBP': 0.729, 'GEL': 3.11, 'GGP': 0.729, 'GHS': 5.95, 'GIP': 0.729, 'GMD': 51.8, 'GNF': 9773.06, 'GTQ': 7.74, 'GYD': 208.38, 'HKD': 7.77, 'HNL': 23.8, 'HRK': 6.38, 'HTG': 93.59, 'HUF': 305.88, 'IDR': 14619.57, 'ILS': 3.31, 'IMP': 0.729, 'INR': 74.86, 'IQD': 1453.15, 'IRR': 41979.43, 'ISK': 124.02, 'JMD': 154.44, 'JOD': 0.709, 'JPY': 109.58, 'KES': 108.17, 'KGS': 84.69, 'KHR': 4054.24, 'KID': 1.36, 'KMF': 416.34, 'KRW': 1151.11, 'KWD': 0.3, 'KYD': 0.833, 'KZT': 427.82, 'LAK': 9523.81, 'LBP': 1507.5, 'LKR': 199.38, 'LRD': 171.73, 'LSL': 14.52, 'LYD': 4.49, 'MAD': 8.96, 'MDL': 17.99, 'MGA': 3898.62, 'MKD': 52.13, 'MMK': 1647.84, 'MNT': 2838.26, 'MOP': 8, 'MRU': 35.99, 'MUR': 42.79, 'MVR': 15.41, 'MWK': 807.67, 'MXN': 20.03, 'MYR': 4.22, 'MZN': 63.88, 'NAD': 14.52, 'NGN': 426.5, 'NIO': 34.97, 'NOK': 8.93, 'NPR': 119.77, 'NZD': 1.44, 'OMR': 0.384, 'PAB': 1, 'PEN': 3.92, 'PGK': 3.51, 'PHP': 50.8, 'PKR': 160, 'PLN': 3.9, 'PYG': 6846.34, 'QAR': 3.64, 'RON': 4.18, 'RSD': 99.9, 'RUB': 74.56, 'RWF': 1005.3, 'SAR': 3.75, 'SBD': 7.94, 'SCR': 16.02, 'SDG': 440.9, 'SEK': 8.7, 'SGD': 1.36, 'SHP': 0.729, 'SLL': 10210.27, 'SOS': 576.25, 'SRD': 21.13, 'SSP': 177.6, 'STN': 20.73, 'SYP': 1261.29, 'SZL': 14.52, 'THB': 32.86, 'TJS': 11.31, 'TMT': 3.5, 'TND': 2.77, 'TOP': 2.24, 'TRY': 8.58, 'TTD': 6.77, 'TVD': 1.36, 'TWD': 28.06, 'TZS': 2315.96, 'UAH': 27.21, 'UGX': 3553.98, 'UYU': 43.84, 'UZS': 10715.43, 'VES': 3618512.21, 'VND': 23050.43, 'VUV': 111.47, 'WST': 2.55, 'XAF': 555.13, 'XCD': 2.7, 'XDR': 0.704, 'XOF': 555.13, 'XPF': 100.99, 'YER': 250.56, 'ZAR': 14.52, 'ZMW': 22.46}}\n"
     ]
    }
   ],
   "source": [
    "dados = req.json()\n",
    "\n",
    "print(dados)"
   ]
  },
  {
   "cell_type": "code",
   "execution_count": 12,
   "id": "39602dab",
   "metadata": {},
   "outputs": [
    {
     "name": "stdout",
     "output_type": "stream",
     "text": [
      "Informe o valor em R$ a ser convertido\n",
      "356\n",
      "R$356.0 em dólar valem US$69.80\n"
     ]
    }
   ],
   "source": [
    "valor_reais = float(input('Informe o valor em R$ a ser convertido\\n'))\n",
    "cotacao = dados['rates']['BRL']\n",
    "print(f'R${valor_reais} em dólar valem US${(valor_reais /cotacao):.2f}')"
   ]
  },
  {
   "cell_type": "code",
   "execution_count": 7,
   "id": "f962ca14",
   "metadata": {
    "ExecuteTime": {
     "end_time": "2021-07-20T14:44:22.085110Z",
     "start_time": "2021-07-20T14:44:18.587584Z"
    }
   },
   "outputs": [
    {
     "name": "stdout",
     "output_type": "stream",
     "text": [
      "Informe o valor em US$ a ser convertido para reais:\n",
      "100\n",
      "US$100.0 em dólar valem R$515.00\n"
     ]
    }
   ],
   "source": [
    "valores_dolar = float(input('Informe o valor em US$ a ser convertido para reais:\\n'))\n",
    "cotacao = dados['rates']['BRL']\n",
    "print(f'US${valores_dolar} em dólar valem R${(cotacao * valores_dolar):.2f}')"
   ]
  },
  {
   "cell_type": "code",
   "execution_count": null,
   "id": "a6299cbe",
   "metadata": {},
   "outputs": [],
   "source": []
  }
 ],
 "metadata": {
  "hide_input": false,
  "kernelspec": {
   "display_name": "Python 3 (ipykernel)",
   "language": "python",
   "name": "python3"
  },
  "language_info": {
   "codemirror_mode": {
    "name": "ipython",
    "version": 3
   },
   "file_extension": ".py",
   "mimetype": "text/x-python",
   "name": "python",
   "nbconvert_exporter": "python",
   "pygments_lexer": "ipython3",
   "version": "3.9.6"
  },
  "varInspector": {
   "cols": {
    "lenName": 16,
    "lenType": 16,
    "lenVar": 40
   },
   "kernels_config": {
    "python": {
     "delete_cmd_postfix": "",
     "delete_cmd_prefix": "del ",
     "library": "var_list.py",
     "varRefreshCmd": "print(var_dic_list())"
    },
    "r": {
     "delete_cmd_postfix": ") ",
     "delete_cmd_prefix": "rm(",
     "library": "var_list.r",
     "varRefreshCmd": "cat(var_dic_list()) "
    }
   },
   "types_to_exclude": [
    "module",
    "function",
    "builtin_function_or_method",
    "instance",
    "_Feature"
   ],
   "window_display": false
  }
 },
 "nbformat": 4,
 "nbformat_minor": 5
}
