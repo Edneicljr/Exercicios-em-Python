{
 "cells": [
  {
   "cell_type": "code",
   "execution_count": 25,
   "id": "bc75cb93",
   "metadata": {},
   "outputs": [],
   "source": [
    "import requests as r\n",
    "\n",
    "def get_datasets(y, labels):\n",
    "    if type([0]) == list:\n",
    "        datasets = []\n",
    "        for i in range(len(y)):\n",
    "            datasets.append({\n",
    "                'label': labels[i],\n",
    "                'data': y[i]\n",
    "            })\n",
    "        return datasets\n",
    "    else:\n",
    "        return [ \n",
    "        {\n",
    "            'label': labels[0],\n",
    "            'data': y\n",
    "        }\n",
    "    ]"
   ]
  },
  {
   "cell_type": "code",
   "execution_count": 26,
   "id": "3e5ba16d",
   "metadata": {},
   "outputs": [],
   "source": [
    "def set_title(title=''):\n",
    "    if title != '':\n",
    "        display = 'true'\n",
    "    else:\n",
    "        display = 'false'\n",
    "    return {\n",
    "        'title': title,\n",
    "        'display': display\n",
    "    }\n"
   ]
  },
  {
   "cell_type": "code",
   "execution_count": 27,
   "id": "a0e97fab",
   "metadata": {},
   "outputs": [],
   "source": [
    "def create_chart(x, y, labels, kind='bar', title=''):\n",
    "    \n",
    "    datasets = get_datasets(y, labels)\n",
    "    options = set_title(title)\n",
    "    \n",
    "    chart = {\n",
    "        'type': kind,\n",
    "        'data': {\n",
    "            'labels': x,\n",
    "            'datasets': datasets\n",
    "        },\n",
    "        'options': options\n",
    "    }\n",
    "    \n",
    "    return chart"
   ]
  },
  {
   "cell_type": "code",
   "execution_count": 28,
   "id": "055cbcbf",
   "metadata": {},
   "outputs": [],
   "source": [
    "def get_api_chart(chart):\n",
    "    url_base = 'https://quickchart.io/chart'\n",
    "    resp = r.get(f'{url_base}?c={str(chart)}')\n",
    "    return resp.content"
   ]
  },
  {
   "cell_type": "code",
   "execution_count": 29,
   "id": "f7396d1f",
   "metadata": {},
   "outputs": [],
   "source": [
    "def save_image(path, content): \n",
    "    with open(path, 'wb') as image:\n",
    "        image.write(content)"
   ]
  },
  {
   "cell_type": "code",
   "execution_count": 30,
   "id": "d0cf21a4",
   "metadata": {},
   "outputs": [],
   "source": [
    "from PIL import Image\n",
    "from IPython.display import display"
   ]
  },
  {
   "cell_type": "code",
   "execution_count": 31,
   "id": "249593b8",
   "metadata": {},
   "outputs": [],
   "source": [
    "def display_image(path):\n",
    "    img_pil = image.open(path)\n",
    "    display(img_pil)"
   ]
  },
  {
   "cell_type": "code",
   "execution_count": 32,
   "id": "b19fa95b",
   "metadata": {},
   "outputs": [
    {
     "ename": "NameError",
     "evalue": "name 'final_data' is not defined",
     "output_type": "error",
     "traceback": [
      "\u001b[1;31m---------------------------------------------------------------------------\u001b[0m",
      "\u001b[1;31mNameError\u001b[0m                                 Traceback (most recent call last)",
      "\u001b[1;32mC:\\Users\\EDNIJR~1\\AppData\\Local\\Temp/ipykernel_4668/4021305094.py\u001b[0m in \u001b[0;36m<module>\u001b[1;34m\u001b[0m\n\u001b[0;32m      1\u001b[0m \u001b[0my_data_1\u001b[0m \u001b[1;33m=\u001b[0m \u001b[1;33m[\u001b[0m\u001b[1;33m]\u001b[0m\u001b[1;33m\u001b[0m\u001b[1;33m\u001b[0m\u001b[0m\n\u001b[1;32m----> 2\u001b[1;33m \u001b[1;32mfor\u001b[0m \u001b[0mobs\u001b[0m \u001b[1;32min\u001b[0m \u001b[0mfinal_data\u001b[0m\u001b[1;33m[\u001b[0m\u001b[1;36m1\u001b[0m\u001b[1;33m:\u001b[0m\u001b[1;33m:\u001b[0m\u001b[1;36m10\u001b[0m\u001b[1;33m]\u001b[0m\u001b[1;33m:\u001b[0m\u001b[1;33m\u001b[0m\u001b[1;33m\u001b[0m\u001b[0m\n\u001b[0m\u001b[0;32m      3\u001b[0m     \u001b[0my_data_1\u001b[0m\u001b[1;33m.\u001b[0m\u001b[0mappend\u001b[0m\u001b[1;33m(\u001b[0m\u001b[0mobs\u001b[0m\u001b[1;33m[\u001b[0m\u001b[0mCONFIRMADOS\u001b[0m\u001b[1;33m]\u001b[0m\u001b[1;33m)\u001b[0m\u001b[1;33m\u001b[0m\u001b[1;33m\u001b[0m\u001b[0m\n\u001b[0;32m      4\u001b[0m \u001b[1;33m\u001b[0m\u001b[0m\n\u001b[0;32m      5\u001b[0m \u001b[0my_data_2\u001b[0m \u001b[1;33m=\u001b[0m \u001b[1;33m[\u001b[0m\u001b[1;33m]\u001b[0m\u001b[1;33m\u001b[0m\u001b[1;33m\u001b[0m\u001b[0m\n",
      "\u001b[1;31mNameError\u001b[0m: name 'final_data' is not defined"
     ]
    }
   ],
   "source": [
    "y_data_1 = []\n",
    "for obs in final_data[1::10]:\n",
    "    y_data_1.append(obs[CONFIRMADOS])\n",
    "    \n",
    "y_data_2 = []\n",
    "for obs in  final_data[1::10]:\n",
    "    y_data_2.append(obs[RECUPERADOS])\n",
    "    \n",
    "labels = ['Confirmados', 'Recuperados']\n",
    "          \n",
    "x = []\n",
    "for obs in final_data[1::10]:\n",
    "    x.append(obs[DATA].srtftime('%d/%m/%Y'))\n",
    "          \n",
    "chart = create_chart(x, [y_data1, y_data2], labels, title='Gráfico confirmado x recuperados')\n",
    "chart_content = get_api_chart(chart)\n",
    "save_image('meu-primeiro-grafico.png', chart_content)\n",
    "display_image('meu-primeiro-gráfico.png')          "
   ]
  },
  {
   "cell_type": "code",
   "execution_count": null,
   "id": "aa39d685",
   "metadata": {},
   "outputs": [],
   "source": []
  }
 ],
 "metadata": {
  "kernelspec": {
   "display_name": "Python 3 (ipykernel)",
   "language": "python",
   "name": "python3"
  },
  "language_info": {
   "codemirror_mode": {
    "name": "ipython",
    "version": 3
   },
   "file_extension": ".py",
   "mimetype": "text/x-python",
   "name": "python",
   "nbconvert_exporter": "python",
   "pygments_lexer": "ipython3",
   "version": "3.9.6"
  }
 },
 "nbformat": 4,
 "nbformat_minor": 5
}
