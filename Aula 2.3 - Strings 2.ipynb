{
 "cells": [
  {
   "cell_type": "code",
   "execution_count": 11,
   "id": "07e93ce7",
   "metadata": {},
   "outputs": [],
   "source": [
    "cump = \"Olá, \""
   ]
  },
  {
   "cell_type": "code",
   "execution_count": 12,
   "id": "795697eb",
   "metadata": {},
   "outputs": [],
   "source": [
    "nome = 'Ed'"
   ]
  },
  {
   "cell_type": "code",
   "execution_count": 13,
   "id": "f4b61e81",
   "metadata": {},
   "outputs": [
    {
     "name": "stdout",
     "output_type": "stream",
     "text": [
      "Olá, Ed\n"
     ]
    }
   ],
   "source": [
    "print(cump + nome)"
   ]
  },
  {
   "cell_type": "code",
   "execution_count": 14,
   "id": "39e75be8",
   "metadata": {},
   "outputs": [
    {
     "name": "stdout",
     "output_type": "stream",
     "text": [
      "EdEdEdEdEd\n"
     ]
    }
   ],
   "source": [
    "print(nome * 5)"
   ]
  },
  {
   "cell_type": "code",
   "execution_count": 18,
   "id": "8ffee014",
   "metadata": {},
   "outputs": [
    {
     "name": "stdout",
     "output_type": "stream",
     "text": [
      "Ed tem 30 anos e 1 filha\n"
     ]
    }
   ],
   "source": [
    "nome = 'Ed'\n",
    "idade = 30\n",
    "n_filhos = 1\n",
    "print(nome + ' tem ' + str(idade) + ' anos e ' + str(n_filhos) + ' filha')"
   ]
  },
  {
   "cell_type": "code",
   "execution_count": 19,
   "id": "64fb3d50",
   "metadata": {},
   "outputs": [
    {
     "name": "stdout",
     "output_type": "stream",
     "text": [
      "Ed tem 30 anos e 1 filhos\n"
     ]
    }
   ],
   "source": [
    "print(f'{nome} tem {idade} anos e {n_filhos} filhos')"
   ]
  },
  {
   "cell_type": "code",
   "execution_count": 21,
   "id": "8ffd2319",
   "metadata": {},
   "outputs": [
    {
     "name": "stdout",
     "output_type": "stream",
     "text": [
      "Ed tem 30 anos e 1 filhos\n"
     ]
    }
   ],
   "source": [
    "print('{} tem {} anos e {} filhos'.format(nome, idade, n_filhos))"
   ]
  },
  {
   "cell_type": "code",
   "execution_count": 22,
   "id": "472f207b",
   "metadata": {},
   "outputs": [
    {
     "name": "stdout",
     "output_type": "stream",
     "text": [
      "O produto chocolate custa 3.14.\n"
     ]
    }
   ],
   "source": [
    "prod = 'chocolate'\n",
    "preco = 3.14\n",
    "print('O produto {} custa {}.'.format(prod, preco))\n"
   ]
  },
  {
   "cell_type": "code",
   "execution_count": 25,
   "id": "470f4586",
   "metadata": {},
   "outputs": [
    {
     "name": "stdout",
     "output_type": "stream",
     "text": [
      "O preço a gasolina subiu e está em R$ 3.48\n"
     ]
    }
   ],
   "source": [
    "preco_gasolina = 3.476\n",
    "print('O preço a gasolina subiu e está em R$ {:.2f}'.format(preco_gasolina))"
   ]
  },
  {
   "cell_type": "code",
   "execution_count": 28,
   "id": "becd56f2",
   "metadata": {},
   "outputs": [
    {
     "name": "stdout",
     "output_type": "stream",
     "text": [
      "15/11/2019\n"
     ]
    }
   ],
   "source": [
    "dia = 15\n",
    "mes = 11\n",
    "ano = 2019\n",
    "\n",
    "data3 = '{:02d}/{:02d}/{:04d}'.format(dia, mes, ano)\n",
    "print(data3)"
   ]
  },
  {
   "cell_type": "code",
   "execution_count": 29,
   "id": "1183acc4",
   "metadata": {},
   "outputs": [
    {
     "name": "stdout",
     "output_type": "stream",
     "text": [
      "abracadabra\n"
     ]
    }
   ],
   "source": [
    "print('{0}{1}{0}'.format('abra', 'cad'))"
   ]
  },
  {
   "cell_type": "code",
   "execution_count": 30,
   "id": "ea2013f1",
   "metadata": {},
   "outputs": [
    {
     "name": "stdout",
     "output_type": "stream",
     "text": [
      "c, b and a\n"
     ]
    }
   ],
   "source": [
    "print('{2}, {1} and {0}'.format('a', 'b', 'c'))"
   ]
  },
  {
   "cell_type": "code",
   "execution_count": null,
   "id": "fcf766e8",
   "metadata": {},
   "outputs": [],
   "source": []
  }
 ],
 "metadata": {
  "kernelspec": {
   "display_name": "Python 3 (ipykernel)",
   "language": "python",
   "name": "python3"
  },
  "language_info": {
   "codemirror_mode": {
    "name": "ipython",
    "version": 3
   },
   "file_extension": ".py",
   "mimetype": "text/x-python",
   "name": "python",
   "nbconvert_exporter": "python",
   "pygments_lexer": "ipython3",
   "version": "3.9.6"
  }
 },
 "nbformat": 4,
 "nbformat_minor": 5
}
