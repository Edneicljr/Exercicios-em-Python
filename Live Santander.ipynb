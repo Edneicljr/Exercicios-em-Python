{
 "cells": [
  {
   "cell_type": "code",
   "execution_count": 1,
   "id": "f41841c6",
   "metadata": {},
   "outputs": [
    {
     "name": "stdout",
     "output_type": "stream",
     "text": [
      "Hello, world!!\n"
     ]
    }
   ],
   "source": [
    "print(\"Hello, world!!\")"
   ]
  },
  {
   "cell_type": "code",
   "execution_count": 2,
   "id": "2671a8cb",
   "metadata": {
    "scrolled": false
   },
   "outputs": [
    {
     "ename": "TypeError",
     "evalue": "type() takes 1 or 3 arguments",
     "output_type": "error",
     "traceback": [
      "\u001b[1;31m---------------------------------------------------------------------------\u001b[0m",
      "\u001b[1;31mTypeError\u001b[0m                                 Traceback (most recent call last)",
      "\u001b[1;32mC:\\Users\\EDNIJR~1\\AppData\\Local\\Temp/ipykernel_7404/2619444958.py\u001b[0m in \u001b[0;36m<module>\u001b[1;34m\u001b[0m\n\u001b[1;32m----> 1\u001b[1;33m \u001b[0mtype\u001b[0m\u001b[1;33m(\u001b[0m\u001b[1;33m)\u001b[0m\u001b[1;33m\u001b[0m\u001b[1;33m\u001b[0m\u001b[0m\n\u001b[0m",
      "\u001b[1;31mTypeError\u001b[0m: type() takes 1 or 3 arguments"
     ]
    }
   ],
   "source": [
    "type()"
   ]
  },
  {
   "cell_type": "code",
   "execution_count": 3,
   "id": "6a8532b8",
   "metadata": {
    "scrolled": true
   },
   "outputs": [
    {
     "data": {
      "text/plain": [
       "['In',\n",
       " 'Out',\n",
       " '_',\n",
       " '__',\n",
       " '___',\n",
       " '__builtin__',\n",
       " '__builtins__',\n",
       " '__doc__',\n",
       " '__loader__',\n",
       " '__name__',\n",
       " '__package__',\n",
       " '__spec__',\n",
       " '_dh',\n",
       " '_i',\n",
       " '_i1',\n",
       " '_i2',\n",
       " '_i3',\n",
       " '_ih',\n",
       " '_ii',\n",
       " '_iii',\n",
       " '_oh',\n",
       " 'exit',\n",
       " 'get_ipython',\n",
       " 'quit']"
      ]
     },
     "execution_count": 3,
     "metadata": {},
     "output_type": "execute_result"
    }
   ],
   "source": [
    "dir()\n"
   ]
  },
  {
   "cell_type": "code",
   "execution_count": 8,
   "id": "7ead7a9f",
   "metadata": {},
   "outputs": [],
   "source": [
    "hello = \"hello world\"\n",
    "\n"
   ]
  },
  {
   "cell_type": "code",
   "execution_count": 10,
   "id": "e25794d6",
   "metadata": {},
   "outputs": [
    {
     "data": {
      "text/plain": [
       "'HELLO WORLD'"
      ]
     },
     "execution_count": 10,
     "metadata": {},
     "output_type": "execute_result"
    }
   ],
   "source": [
    "hello.upper()\n"
   ]
  },
  {
   "cell_type": "code",
   "execution_count": 11,
   "id": "9d1b177f",
   "metadata": {},
   "outputs": [
    {
     "data": {
      "text/plain": [
       "'Hello World'"
      ]
     },
     "execution_count": 11,
     "metadata": {},
     "output_type": "execute_result"
    }
   ],
   "source": [
    "hello.title()"
   ]
  },
  {
   "cell_type": "code",
   "execution_count": 12,
   "id": "bef9cc25",
   "metadata": {},
   "outputs": [
    {
     "ename": "TypeError",
     "evalue": "type() takes 1 or 3 arguments",
     "output_type": "error",
     "traceback": [
      "\u001b[1;31m---------------------------------------------------------------------------\u001b[0m",
      "\u001b[1;31mTypeError\u001b[0m                                 Traceback (most recent call last)",
      "\u001b[1;32mC:\\Users\\EDNIJR~1\\AppData\\Local\\Temp/ipykernel_7404/2495681065.py\u001b[0m in \u001b[0;36m<module>\u001b[1;34m\u001b[0m\n\u001b[1;32m----> 1\u001b[1;33m \u001b[0mtype\u001b[0m \u001b[1;33m(\u001b[0m\u001b[1;33m)\u001b[0m\u001b[1;33m\u001b[0m\u001b[1;33m\u001b[0m\u001b[0m\n\u001b[0m",
      "\u001b[1;31mTypeError\u001b[0m: type() takes 1 or 3 arguments"
     ]
    }
   ],
   "source": [
    "type ()"
   ]
  },
  {
   "cell_type": "code",
   "execution_count": 13,
   "id": "095de58f",
   "metadata": {},
   "outputs": [],
   "source": [
    "hello = 'hello world'"
   ]
  },
  {
   "cell_type": "code",
   "execution_count": 14,
   "id": "61229dfd",
   "metadata": {},
   "outputs": [
    {
     "name": "stdout",
     "output_type": "stream",
     "text": [
      "\f",
      "\n"
     ]
    }
   ],
   "source": [
    "clear ()\n"
   ]
  },
  {
   "cell_type": "code",
   "execution_count": 15,
   "id": "19d1ad46",
   "metadata": {},
   "outputs": [
    {
     "data": {
      "text/plain": [
       "str"
      ]
     },
     "execution_count": 15,
     "metadata": {},
     "output_type": "execute_result"
    }
   ],
   "source": [
    "type (hello)\n"
   ]
  },
  {
   "cell_type": "code",
   "execution_count": 16,
   "id": "b33e054b",
   "metadata": {},
   "outputs": [
    {
     "data": {
      "text/plain": [
       "['__add__',\n",
       " '__class__',\n",
       " '__contains__',\n",
       " '__delattr__',\n",
       " '__dir__',\n",
       " '__doc__',\n",
       " '__eq__',\n",
       " '__format__',\n",
       " '__ge__',\n",
       " '__getattribute__',\n",
       " '__getitem__',\n",
       " '__getnewargs__',\n",
       " '__gt__',\n",
       " '__hash__',\n",
       " '__init__',\n",
       " '__init_subclass__',\n",
       " '__iter__',\n",
       " '__le__',\n",
       " '__len__',\n",
       " '__lt__',\n",
       " '__mod__',\n",
       " '__mul__',\n",
       " '__ne__',\n",
       " '__new__',\n",
       " '__reduce__',\n",
       " '__reduce_ex__',\n",
       " '__repr__',\n",
       " '__rmod__',\n",
       " '__rmul__',\n",
       " '__setattr__',\n",
       " '__sizeof__',\n",
       " '__str__',\n",
       " '__subclasshook__',\n",
       " 'capitalize',\n",
       " 'casefold',\n",
       " 'center',\n",
       " 'count',\n",
       " 'encode',\n",
       " 'endswith',\n",
       " 'expandtabs',\n",
       " 'find',\n",
       " 'format',\n",
       " 'format_map',\n",
       " 'index',\n",
       " 'isalnum',\n",
       " 'isalpha',\n",
       " 'isascii',\n",
       " 'isdecimal',\n",
       " 'isdigit',\n",
       " 'isidentifier',\n",
       " 'islower',\n",
       " 'isnumeric',\n",
       " 'isprintable',\n",
       " 'isspace',\n",
       " 'istitle',\n",
       " 'isupper',\n",
       " 'join',\n",
       " 'ljust',\n",
       " 'lower',\n",
       " 'lstrip',\n",
       " 'maketrans',\n",
       " 'partition',\n",
       " 'removeprefix',\n",
       " 'removesuffix',\n",
       " 'replace',\n",
       " 'rfind',\n",
       " 'rindex',\n",
       " 'rjust',\n",
       " 'rpartition',\n",
       " 'rsplit',\n",
       " 'rstrip',\n",
       " 'split',\n",
       " 'splitlines',\n",
       " 'startswith',\n",
       " 'strip',\n",
       " 'swapcase',\n",
       " 'title',\n",
       " 'translate',\n",
       " 'upper',\n",
       " 'zfill']"
      ]
     },
     "execution_count": 16,
     "metadata": {},
     "output_type": "execute_result"
    }
   ],
   "source": [
    "dir(hello)"
   ]
  },
  {
   "cell_type": "code",
   "execution_count": 17,
   "id": "d917bb44",
   "metadata": {},
   "outputs": [
    {
     "data": {
      "text/plain": [
       "'HELLO WORLD'"
      ]
     },
     "execution_count": 17,
     "metadata": {},
     "output_type": "execute_result"
    }
   ],
   "source": [
    "hello.upper()"
   ]
  },
  {
   "cell_type": "code",
   "execution_count": 18,
   "id": "c99fd101",
   "metadata": {},
   "outputs": [
    {
     "data": {
      "text/plain": [
       "'Hello World'"
      ]
     },
     "execution_count": 18,
     "metadata": {},
     "output_type": "execute_result"
    }
   ],
   "source": [
    "hello.title()"
   ]
  },
  {
   "cell_type": "code",
   "execution_count": 19,
   "id": "5b1df671",
   "metadata": {},
   "outputs": [
    {
     "data": {
      "text/plain": [
       "'hello world'"
      ]
     },
     "execution_count": 19,
     "metadata": {},
     "output_type": "execute_result"
    }
   ],
   "source": [
    "hello.strip()"
   ]
  },
  {
   "cell_type": "code",
   "execution_count": 20,
   "id": "964c23ce",
   "metadata": {},
   "outputs": [
    {
     "data": {
      "text/plain": [
       "['hello', 'world']"
      ]
     },
     "execution_count": 20,
     "metadata": {},
     "output_type": "execute_result"
    }
   ],
   "source": [
    "hello.split()"
   ]
  },
  {
   "cell_type": "code",
   "execution_count": 21,
   "id": "50861a0f",
   "metadata": {},
   "outputs": [
    {
     "data": {
      "text/plain": [
       "'h'"
      ]
     },
     "execution_count": 21,
     "metadata": {},
     "output_type": "execute_result"
    }
   ],
   "source": [
    "hello[0]"
   ]
  },
  {
   "cell_type": "code",
   "execution_count": 22,
   "id": "562e1025",
   "metadata": {},
   "outputs": [
    {
     "data": {
      "text/plain": [
       "'l'"
      ]
     },
     "execution_count": 22,
     "metadata": {},
     "output_type": "execute_result"
    }
   ],
   "source": [
    "hello[3]\n"
   ]
  },
  {
   "cell_type": "code",
   "execution_count": 26,
   "id": "6d978e16",
   "metadata": {},
   "outputs": [
    {
     "data": {
      "text/plain": [
       "'hello'"
      ]
     },
     "execution_count": 26,
     "metadata": {},
     "output_type": "execute_result"
    }
   ],
   "source": [
    "hello[0:5]"
   ]
  },
  {
   "cell_type": "code",
   "execution_count": 28,
   "id": "17383b1e",
   "metadata": {},
   "outputs": [
    {
     "data": {
      "text/plain": [
       "'hello world'"
      ]
     },
     "execution_count": 28,
     "metadata": {},
     "output_type": "execute_result"
    }
   ],
   "source": [
    "hello[0::]"
   ]
  },
  {
   "cell_type": "code",
   "execution_count": 29,
   "id": "21676873",
   "metadata": {},
   "outputs": [],
   "source": [
    "cnpj = '90.400.888/0001-42'"
   ]
  },
  {
   "cell_type": "code",
   "execution_count": 30,
   "id": "94ec3cea",
   "metadata": {},
   "outputs": [
    {
     "data": {
      "text/plain": [
       "'90.400.888/0001-42'"
      ]
     },
     "execution_count": 30,
     "metadata": {},
     "output_type": "execute_result"
    }
   ],
   "source": [
    "cnpj"
   ]
  },
  {
   "cell_type": "code",
   "execution_count": 31,
   "id": "ff9036eb",
   "metadata": {},
   "outputs": [
    {
     "name": "stdout",
     "output_type": "stream",
     "text": [
      "90.400.888/0001-42\n"
     ]
    }
   ],
   "source": [
    "print(cnpj)"
   ]
  },
  {
   "cell_type": "code",
   "execution_count": 33,
   "id": "4c7ca376",
   "metadata": {},
   "outputs": [],
   "source": [
    "cnpj = cnpj.replace('.', '')"
   ]
  },
  {
   "cell_type": "code",
   "execution_count": 34,
   "id": "eb5e6276",
   "metadata": {},
   "outputs": [
    {
     "data": {
      "text/plain": [
       "'90400888/0001-42'"
      ]
     },
     "execution_count": 34,
     "metadata": {},
     "output_type": "execute_result"
    }
   ],
   "source": [
    "cnpj"
   ]
  },
  {
   "cell_type": "code",
   "execution_count": 35,
   "id": "806c67f3",
   "metadata": {},
   "outputs": [],
   "source": [
    "cnpj = cnpj.replace('.', '')"
   ]
  },
  {
   "cell_type": "code",
   "execution_count": 36,
   "id": "22cb35fa",
   "metadata": {},
   "outputs": [],
   "source": [
    "cnpj = cnpj.replace('.', '')\n",
    "cnpj = cnpj.replace('-', '')\n",
    "cnpj = cnpj.replace('/', '')"
   ]
  },
  {
   "cell_type": "code",
   "execution_count": 37,
   "id": "5b7a1861",
   "metadata": {},
   "outputs": [
    {
     "data": {
      "text/plain": [
       "'90400888000142'"
      ]
     },
     "execution_count": 37,
     "metadata": {},
     "output_type": "execute_result"
    }
   ],
   "source": [
    "cnpj\n"
   ]
  },
  {
   "cell_type": "code",
   "execution_count": 38,
   "id": "e049f2a6",
   "metadata": {},
   "outputs": [
    {
     "data": {
      "text/plain": [
       "str"
      ]
     },
     "execution_count": 38,
     "metadata": {},
     "output_type": "execute_result"
    }
   ],
   "source": [
    "type(cnpj)"
   ]
  },
  {
   "cell_type": "code",
   "execution_count": 39,
   "id": "ee73e717",
   "metadata": {},
   "outputs": [],
   "source": [
    "cnpj = int(cnpj)"
   ]
  },
  {
   "cell_type": "code",
   "execution_count": 40,
   "id": "63b03d49",
   "metadata": {},
   "outputs": [
    {
     "data": {
      "text/plain": [
       "int"
      ]
     },
     "execution_count": 40,
     "metadata": {},
     "output_type": "execute_result"
    }
   ],
   "source": [
    "type(cnpj)"
   ]
  },
  {
   "cell_type": "code",
   "execution_count": 41,
   "id": "8424f17e",
   "metadata": {},
   "outputs": [
    {
     "ename": "TypeError",
     "evalue": "object of type 'int' has no len()",
     "output_type": "error",
     "traceback": [
      "\u001b[1;31m---------------------------------------------------------------------------\u001b[0m",
      "\u001b[1;31mTypeError\u001b[0m                                 Traceback (most recent call last)",
      "\u001b[1;32mC:\\Users\\EDNIJR~1\\AppData\\Local\\Temp/ipykernel_7404/3643347792.py\u001b[0m in \u001b[0;36m<module>\u001b[1;34m\u001b[0m\n\u001b[1;32m----> 1\u001b[1;33m \u001b[0mlen\u001b[0m\u001b[1;33m(\u001b[0m\u001b[0mcnpj\u001b[0m\u001b[1;33m)\u001b[0m\u001b[1;33m\u001b[0m\u001b[1;33m\u001b[0m\u001b[0m\n\u001b[0m",
      "\u001b[1;31mTypeError\u001b[0m: object of type 'int' has no len()"
     ]
    }
   ],
   "source": [
    "len(cnpj)"
   ]
  },
  {
   "cell_type": "code",
   "execution_count": 42,
   "id": "ed3e5ef3",
   "metadata": {},
   "outputs": [],
   "source": [
    "cnpj = str(cnpj)"
   ]
  },
  {
   "cell_type": "code",
   "execution_count": 43,
   "id": "5e23198a",
   "metadata": {},
   "outputs": [
    {
     "data": {
      "text/plain": [
       "14"
      ]
     },
     "execution_count": 43,
     "metadata": {},
     "output_type": "execute_result"
    }
   ],
   "source": [
    "len(cnpj)"
   ]
  },
  {
   "cell_type": "code",
   "execution_count": 44,
   "id": "b89fd2c9",
   "metadata": {},
   "outputs": [],
   "source": [
    "cnpj1 = 400888000142"
   ]
  },
  {
   "cell_type": "code",
   "execution_count": 45,
   "id": "54722886",
   "metadata": {},
   "outputs": [
    {
     "data": {
      "text/plain": [
       "14"
      ]
     },
     "execution_count": 45,
     "metadata": {},
     "output_type": "execute_result"
    }
   ],
   "source": [
    "len(cnpj)"
   ]
  },
  {
   "cell_type": "code",
   "execution_count": 48,
   "id": "508978d4",
   "metadata": {},
   "outputs": [],
   "source": [
    "cnpj1 = str(cnpj1)"
   ]
  },
  {
   "cell_type": "code",
   "execution_count": 49,
   "id": "0a0134c8",
   "metadata": {},
   "outputs": [
    {
     "data": {
      "text/plain": [
       "'00400888000142'"
      ]
     },
     "execution_count": 49,
     "metadata": {},
     "output_type": "execute_result"
    }
   ],
   "source": [
    "cnpj1.zfill(14)"
   ]
  },
  {
   "cell_type": "code",
   "execution_count": 50,
   "id": "705e9038",
   "metadata": {},
   "outputs": [],
   "source": [
    "random_list = []\n"
   ]
  },
  {
   "cell_type": "code",
   "execution_count": 55,
   "id": "32b555b2",
   "metadata": {},
   "outputs": [],
   "source": [
    "random_list.append(81)\n",
    "random_list.append(57)\n",
    "random_list.append(90)\n",
    "random_list.append(50)\n",
    "random_list.append(60)\n",
    "random_list.append(48)\n",
    "random_list.append(55)\n",
    "random_list.append(25)\n",
    "random_list.append(44)\n",
    "random_list.append(82)\n"
   ]
  },
  {
   "cell_type": "code",
   "execution_count": 57,
   "id": "4a3cfeb5",
   "metadata": {},
   "outputs": [],
   "source": [
    "random_list.append(99)"
   ]
  },
  {
   "cell_type": "code",
   "execution_count": 58,
   "id": "b9dd3fee",
   "metadata": {},
   "outputs": [
    {
     "data": {
      "text/plain": [
       "[82, 81, 57, 90, 50, 60, 48, 55, 25, 44, 82, 99]"
      ]
     },
     "execution_count": 58,
     "metadata": {},
     "output_type": "execute_result"
    }
   ],
   "source": [
    "random_list\n"
   ]
  },
  {
   "cell_type": "code",
   "execution_count": 59,
   "id": "087b4cf8",
   "metadata": {},
   "outputs": [
    {
     "data": {
      "text/plain": [
       "['__add__',\n",
       " '__class__',\n",
       " '__class_getitem__',\n",
       " '__contains__',\n",
       " '__delattr__',\n",
       " '__delitem__',\n",
       " '__dir__',\n",
       " '__doc__',\n",
       " '__eq__',\n",
       " '__format__',\n",
       " '__ge__',\n",
       " '__getattribute__',\n",
       " '__getitem__',\n",
       " '__gt__',\n",
       " '__hash__',\n",
       " '__iadd__',\n",
       " '__imul__',\n",
       " '__init__',\n",
       " '__init_subclass__',\n",
       " '__iter__',\n",
       " '__le__',\n",
       " '__len__',\n",
       " '__lt__',\n",
       " '__mul__',\n",
       " '__ne__',\n",
       " '__new__',\n",
       " '__reduce__',\n",
       " '__reduce_ex__',\n",
       " '__repr__',\n",
       " '__reversed__',\n",
       " '__rmul__',\n",
       " '__setattr__',\n",
       " '__setitem__',\n",
       " '__sizeof__',\n",
       " '__str__',\n",
       " '__subclasshook__',\n",
       " 'append',\n",
       " 'clear',\n",
       " 'copy',\n",
       " 'count',\n",
       " 'extend',\n",
       " 'index',\n",
       " 'insert',\n",
       " 'pop',\n",
       " 'remove',\n",
       " 'reverse',\n",
       " 'sort']"
      ]
     },
     "execution_count": 59,
     "metadata": {},
     "output_type": "execute_result"
    }
   ],
   "source": [
    "dir(random_list)"
   ]
  },
  {
   "cell_type": "code",
   "execution_count": 62,
   "id": "32fc8463",
   "metadata": {},
   "outputs": [
    {
     "data": {
      "text/plain": [
       "2"
      ]
     },
     "execution_count": 62,
     "metadata": {},
     "output_type": "execute_result"
    }
   ],
   "source": [
    "random_list.count(82)\n"
   ]
  },
  {
   "cell_type": "code",
   "execution_count": 63,
   "id": "8d48bebe",
   "metadata": {},
   "outputs": [
    {
     "data": {
      "text/plain": [
       "[99, 82, 44, 25, 55, 48, 60, 50, 90, 57, 81, 82]"
      ]
     },
     "execution_count": 63,
     "metadata": {},
     "output_type": "execute_result"
    }
   ],
   "source": [
    "random_list.reverse()\n",
    "random_list"
   ]
  },
  {
   "cell_type": "code",
   "execution_count": 65,
   "id": "e3bef6f5",
   "metadata": {},
   "outputs": [
    {
     "data": {
      "text/plain": [
       "[82, 81, 57, 90, 50, 60, 48, 55, 25, 44, 82, 99]"
      ]
     },
     "execution_count": 65,
     "metadata": {},
     "output_type": "execute_result"
    }
   ],
   "source": [
    "random_list.reverse()\n",
    "random_list"
   ]
  },
  {
   "cell_type": "code",
   "execution_count": 66,
   "id": "16909d67",
   "metadata": {},
   "outputs": [
    {
     "data": {
      "text/plain": [
       "{'cachorro': 'lulu da pomerânia', 'idade': 42}"
      ]
     },
     "execution_count": 66,
     "metadata": {},
     "output_type": "execute_result"
    }
   ],
   "source": [
    "meu_dic = {}\n",
    "meu_dic['cachorro'] = 'lulu da pomerânia'\n",
    "meu_dic['idade'] = 42\n",
    "\n",
    "meu_dic\n"
   ]
  },
  {
   "cell_type": "code",
   "execution_count": 67,
   "id": "6d0b4d0e",
   "metadata": {},
   "outputs": [
    {
     "data": {
      "text/plain": [
       "dict_keys(['cachorro', 'idade'])"
      ]
     },
     "execution_count": 67,
     "metadata": {},
     "output_type": "execute_result"
    }
   ],
   "source": [
    "meu_dic.keys()"
   ]
  },
  {
   "cell_type": "code",
   "execution_count": 68,
   "id": "b068280f",
   "metadata": {},
   "outputs": [
    {
     "data": {
      "text/plain": [
       "dict_values(['lulu da pomerânia', 42])"
      ]
     },
     "execution_count": 68,
     "metadata": {},
     "output_type": "execute_result"
    }
   ],
   "source": [
    "meu_dic.values()"
   ]
  },
  {
   "cell_type": "code",
   "execution_count": 70,
   "id": "13832398",
   "metadata": {},
   "outputs": [
    {
     "data": {
      "text/plain": [
       "dict_items([('cachorro', 'lulu da pomerânia'), ('idade', 42)])"
      ]
     },
     "execution_count": 70,
     "metadata": {},
     "output_type": "execute_result"
    }
   ],
   "source": [
    "meu_dic.items()"
   ]
  },
  {
   "cell_type": "code",
   "execution_count": 72,
   "id": "2a78efe6",
   "metadata": {},
   "outputs": [
    {
     "data": {
      "text/plain": [
       "(1, 4, 9)"
      ]
     },
     "execution_count": 72,
     "metadata": {},
     "output_type": "execute_result"
    }
   ],
   "source": [
    "#Criando uma tupla\n",
    "tupla = (1, 4, 9)\n",
    "\n",
    "tupla\n"
   ]
  },
  {
   "cell_type": "code",
   "execution_count": 75,
   "id": "5d4c12eb",
   "metadata": {},
   "outputs": [],
   "source": [
    "ninja_turtles = ['Leonardo', 'Raphael', 'Donatello', 'Michelangelo']\n"
   ]
  },
  {
   "cell_type": "markdown",
   "id": "30b4b5ab",
   "metadata": {},
   "source": []
  },
  {
   "cell_type": "code",
   "execution_count": 76,
   "id": "c121a889",
   "metadata": {},
   "outputs": [
    {
     "data": {
      "text/plain": [
       "'Raphael'"
      ]
     },
     "execution_count": 76,
     "metadata": {},
     "output_type": "execute_result"
    }
   ],
   "source": [
    "ninja_turtles[1]\n"
   ]
  },
  {
   "cell_type": "code",
   "execution_count": 77,
   "id": "f1109b7e",
   "metadata": {},
   "outputs": [
    {
     "name": "stdout",
     "output_type": "stream",
     "text": [
      "Leonardo\n",
      "Raphael\n",
      "Donatello\n",
      "Michelangelo\n"
     ]
    }
   ],
   "source": [
    "for t in ninja_turtles:\n",
    "    print(t)"
   ]
  },
  {
   "cell_type": "code",
   "execution_count": 90,
   "id": "ef8ab64c",
   "metadata": {},
   "outputs": [
    {
     "name": "stdout",
     "output_type": "stream",
     "text": [
      "['Leonardo', 'Raphael', 'Michelangelo']\n"
     ]
    }
   ],
   "source": [
    "print([t for t in ninja_turtles if t != 'Donatello'])\n",
    "\n",
    "    \n"
   ]
  },
  {
   "cell_type": "code",
   "execution_count": 91,
   "id": "55056ee3",
   "metadata": {},
   "outputs": [],
   "source": [
    "# While\n"
   ]
  },
  {
   "cell_type": "code",
   "execution_count": 92,
   "id": "9434c951",
   "metadata": {},
   "outputs": [
    {
     "name": "stdout",
     "output_type": "stream",
     "text": [
      "x é atualmente 0\n",
      "x é atualmente 1\n",
      "x é atualmente 2\n",
      "x é atualmente 3\n",
      "x é atualmente 4\n",
      "x é atualmente 5\n",
      "x é atualmente 6\n",
      "x é atualmente 7\n",
      "x é atualmente 8\n",
      "x é atualmente 9\n"
     ]
    }
   ],
   "source": [
    "x = 0\n",
    "\n",
    "while x < 10:\n",
    "    print('x é atualmente', x)\n",
    "    \n",
    "    x += 1"
   ]
  },
  {
   "cell_type": "code",
   "execution_count": 93,
   "id": "bfd36b4e",
   "metadata": {},
   "outputs": [
    {
     "name": "stdout",
     "output_type": "stream",
     "text": [
      "x é atualmente 0\n",
      "x é atualmente 1\n",
      "x é atualmente 2\n",
      "x é atualmente 3\n",
      "x é atualmente 4\n",
      "x é atualmente 5\n",
      "x é atualmente 6\n",
      "x é atualmente 7\n",
      "x é atualmente 8\n",
      "x é atualmente 9\n"
     ]
    }
   ],
   "source": [
    "x = 0\n",
    "\n",
    "while x < 10:\n",
    "    print('x é atualmente', x)\n",
    "    \n",
    "    x += 1\n",
    "    "
   ]
  },
  {
   "cell_type": "code",
   "execution_count": 94,
   "id": "7ebc6732",
   "metadata": {},
   "outputs": [],
   "source": [
    "# Range"
   ]
  },
  {
   "cell_type": "code",
   "execution_count": 95,
   "id": "8737100d",
   "metadata": {},
   "outputs": [
    {
     "data": {
      "text/plain": [
       "range(1, 10)"
      ]
     },
     "execution_count": 95,
     "metadata": {},
     "output_type": "execute_result"
    }
   ],
   "source": [
    "range(1,10)"
   ]
  },
  {
   "cell_type": "code",
   "execution_count": 96,
   "id": "c3952e7a",
   "metadata": {},
   "outputs": [
    {
     "data": {
      "text/plain": [
       "range(0, 11)"
      ]
     },
     "execution_count": 96,
     "metadata": {},
     "output_type": "execute_result"
    }
   ],
   "source": [
    "range(0,11)\n"
   ]
  },
  {
   "cell_type": "code",
   "execution_count": 97,
   "id": "4162205f",
   "metadata": {},
   "outputs": [
    {
     "data": {
      "text/plain": [
       "[0, 1, 2, 3, 4, 5, 6, 7, 8, 9, 10]"
      ]
     },
     "execution_count": 97,
     "metadata": {},
     "output_type": "execute_result"
    }
   ],
   "source": [
    "list(range(0,11))"
   ]
  },
  {
   "cell_type": "code",
   "execution_count": 98,
   "id": "6803e3bf",
   "metadata": {},
   "outputs": [
    {
     "ename": "TypeError",
     "evalue": "'int' object is not iterable",
     "output_type": "error",
     "traceback": [
      "\u001b[1;31m---------------------------------------------------------------------------\u001b[0m",
      "\u001b[1;31mTypeError\u001b[0m                                 Traceback (most recent call last)",
      "\u001b[1;32mC:\\Users\\EDNIJR~1\\AppData\\Local\\Temp/ipykernel_7404/3261570233.py\u001b[0m in \u001b[0;36m<module>\u001b[1;34m\u001b[0m\n\u001b[1;32m----> 1\u001b[1;33m \u001b[0mlist\u001b[0m\u001b[1;33m(\u001b[0m\u001b[1;36m10\u001b[0m\u001b[1;33m)\u001b[0m\u001b[1;33m\u001b[0m\u001b[1;33m\u001b[0m\u001b[0m\n\u001b[0m",
      "\u001b[1;31mTypeError\u001b[0m: 'int' object is not iterable"
     ]
    }
   ],
   "source": [
    "list(10)"
   ]
  },
  {
   "cell_type": "code",
   "execution_count": null,
   "id": "b8508194",
   "metadata": {},
   "outputs": [],
   "source": [
    "# For "
   ]
  },
  {
   "cell_type": "code",
   "execution_count": 100,
   "id": "ac075317",
   "metadata": {},
   "outputs": [
    {
     "name": "stdout",
     "output_type": "stream",
     "text": [
      "0\n",
      "1\n",
      "2\n",
      "3\n",
      "4\n"
     ]
    }
   ],
   "source": [
    "for i in range(0,5):\n",
    "    print(i)"
   ]
  },
  {
   "cell_type": "code",
   "execution_count": 101,
   "id": "78a8c513",
   "metadata": {},
   "outputs": [],
   "source": [
    "# Enumerate "
   ]
  },
  {
   "cell_type": "code",
   "execution_count": 102,
   "id": "3ba7098b",
   "metadata": {
    "scrolled": true
   },
   "outputs": [
    {
     "name": "stdout",
     "output_type": "stream",
     "text": [
      "At index 0 the letter is a\n",
      "At index 1 the letter is b\n",
      "At index 2 the letter is c\n",
      "At index 3 the letter is d\n",
      "At index 4 the letter is e\n"
     ]
    }
   ],
   "source": [
    "index_count = 0\n",
    "\n",
    "for letter in 'abcde':\n",
    "    print(f\"At index {index_count} the letter is {letter}\")\n",
    "    index_count += 1"
   ]
  },
  {
   "cell_type": "code",
   "execution_count": 104,
   "id": "66211f31",
   "metadata": {},
   "outputs": [
    {
     "name": "stdout",
     "output_type": "stream",
     "text": [
      "0\n",
      "1\n",
      "2\n",
      "3\n",
      "4\n"
     ]
    }
   ],
   "source": [
    "for i, letter in enumerate('abcde'):\n",
    "    print(i)"
   ]
  },
  {
   "cell_type": "code",
   "execution_count": 105,
   "id": "4cdee796",
   "metadata": {},
   "outputs": [
    {
     "name": "stdout",
     "output_type": "stream",
     "text": [
      "At index 0 the letter is a\n",
      "At index 1 the letter is b\n",
      "At index 2 the letter is c\n",
      "At index 3 the letter is d\n",
      "At index 4 the letter is e\n"
     ]
    }
   ],
   "source": [
    "for i, letter in enumerate('abcde'):\n",
    "    print(f\"At index {i} the letter is {letter}\")\n",
    "    index_count += 1"
   ]
  },
  {
   "cell_type": "code",
   "execution_count": 106,
   "id": "d7764c29",
   "metadata": {},
   "outputs": [],
   "source": [
    "lst_arma = ['nunchaku', 'katana', 'bastão', 'sai']\n",
    "lst_aguias_ninjas = ['Michelangelo', 'Leonardo', 'Donatello', 'Raphael']\n",
    "\n"
   ]
  },
  {
   "cell_type": "code",
   "execution_count": 108,
   "id": "83f89aab",
   "metadata": {},
   "outputs": [
    {
     "name": "stdout",
     "output_type": "stream",
     "text": [
      "A arma do Michelangelo é nunchaku\n",
      "A arma do Leonardo é katana\n",
      "A arma do Donatello é bastão\n",
      "A arma do Raphael é sai\n"
     ]
    }
   ],
   "source": [
    "for hawk, weapon in zip(lst_aguias_ninjas, lst_arma):\n",
    "    print(f'A arma do {hawk} é {weapon}')"
   ]
  },
  {
   "cell_type": "code",
   "execution_count": 111,
   "id": "a4ed328c",
   "metadata": {},
   "outputs": [
    {
     "data": {
      "text/plain": [
       "[3600, 7200, 10800, 14400, 180000]"
      ]
     },
     "execution_count": 111,
     "metadata": {},
     "output_type": "execute_result"
    }
   ],
   "source": [
    "hora = [1, 2, 3, 4, 50]\n",
    "segundo = []\n",
    "\n",
    "\n",
    "segundo = [(hora*60*60) for hora in hora]\n",
    "segundo\n",
    "\n",
    "\n",
    "\n"
   ]
  },
  {
   "cell_type": "code",
   "execution_count": 112,
   "id": "10518589",
   "metadata": {},
   "outputs": [
    {
     "name": "stdout",
     "output_type": "stream",
     "text": [
      "[3600, 7200, 10800, 14400, 180000]\n"
     ]
    }
   ],
   "source": [
    "print(segundo)"
   ]
  },
  {
   "cell_type": "code",
   "execution_count": 1,
   "id": "e3acbabd",
   "metadata": {},
   "outputs": [],
   "source": [
    "def soma(*args):\n",
    "    soma_numeros = sum(args)\n",
    "    return soma_numeros"
   ]
  },
  {
   "cell_type": "code",
   "execution_count": 2,
   "id": "7c8c742e",
   "metadata": {},
   "outputs": [
    {
     "data": {
      "text/plain": [
       "131"
      ]
     },
     "execution_count": 2,
     "metadata": {},
     "output_type": "execute_result"
    }
   ],
   "source": [
    "soma(1, 3, 4, 123)"
   ]
  },
  {
   "cell_type": "code",
   "execution_count": 3,
   "id": "87671e05",
   "metadata": {},
   "outputs": [],
   "source": [
    "def soma(*args):\n",
    "    soma_numeros = sum(args)\n",
    "    return soma_numeros"
   ]
  },
  {
   "cell_type": "code",
   "execution_count": 9,
   "id": "49e57255",
   "metadata": {},
   "outputs": [
    {
     "name": "stdout",
     "output_type": "stream",
     "text": [
      "O numero 0 é menor que 60\n",
      "O numero 1 é menor que 60\n",
      "O numero 2 é menor que 60\n",
      "O numero 3 é menor que 60\n",
      "O numero 4 é menor que 60\n",
      "O numero 5 é menor que 60\n",
      "O numero 6 é menor que 60\n",
      "O numero 7 é menor que 60\n",
      "O numero 8 é menor que 60\n",
      "O numero 9 é menor que 60\n",
      "O numero 10 é menor que 60\n",
      "O numero 11 é menor que 60\n",
      "O numero 12 é menor que 60\n",
      "O numero 13 é menor que 60\n",
      "O numero 14 é menor que 60\n",
      "O numero 15 é menor que 60\n",
      "O numero 16 é menor que 60\n",
      "O numero 17 é menor que 60\n",
      "O numero 18 é menor que 60\n",
      "O numero 19 é menor que 60\n",
      "O numero 20 é menor que 60\n",
      "O numero 21 é menor que 60\n",
      "O numero 22 é menor que 60\n",
      "O numero 23 é menor que 60\n",
      "O numero 24 é menor que 60\n",
      "O numero 25 é menor que 60\n",
      "O numero 26 é menor que 60\n",
      "O numero 27 é menor que 60\n",
      "O numero 28 é menor que 60\n",
      "O numero 29 é menor que 60\n",
      "O numero 30 é menor que 60\n",
      "O numero 31 é menor que 60\n",
      "O numero 32 é menor que 60\n",
      "O numero 33 é menor que 60\n",
      "O numero 34 é menor que 60\n",
      "O numero 35 é menor que 60\n",
      "O numero 36 é menor que 60\n",
      "O numero 37 é menor que 60\n",
      "O numero 38 é menor que 60\n",
      "O numero 39 é menor que 60\n",
      "O numero 40 é menor que 60\n",
      "O numero 41 é menor que 60\n",
      "O numero 42 é menor que 60\n",
      "O numero 43 é menor que 60\n",
      "O numero 44 é menor que 60\n",
      "O numero 45 é menor que 60\n",
      "O numero 46 é menor que 60\n",
      "O numero 47 é menor que 60\n",
      "O numero 48 é menor que 60\n",
      "O numero 49 é menor que 60\n",
      "O numero 50 é menor que 60\n",
      "O numero 51 é menor que 60\n",
      "O numero 52 é menor que 60\n",
      "O numero 53 é menor que 60\n",
      "O numero 54 é menor que 60\n",
      "O numero 55 é menor que 60\n",
      "O numero 56 é menor que 60\n",
      "O numero 57 é menor que 60\n",
      "O numero 58 é menor que 60\n",
      "O numero 59 é menor que 60\n",
      "O numero 60 é igual que 60\n",
      "O numero 61 é menor que 60\n",
      "O numero 62 é menor que 60\n",
      "O numero 63 é menor que 60\n",
      "O numero 64 é menor que 60\n",
      "O numero 65 é menor que 60\n",
      "O numero 66 é menor que 60\n",
      "O numero 67 é menor que 60\n",
      "O numero 68 é menor que 60\n",
      "O numero 69 é menor que 60\n",
      "O numero 70 é menor que 60\n",
      "O numero 71 é menor que 60\n",
      "O numero 72 é menor que 60\n",
      "O numero 73 é menor que 60\n",
      "O numero 74 é menor que 60\n",
      "O numero 75 é menor que 60\n",
      "O numero 76 é menor que 60\n",
      "O numero 77 é menor que 60\n",
      "O numero 78 é menor que 60\n",
      "O numero 79 é menor que 60\n"
     ]
    }
   ],
   "source": [
    "for i in list(range(0,80)):\n",
    "    if i < 60:\n",
    "        print(f'O numero {i} é menor que 60')\n",
    "        \n",
    "    elif i == 60:\n",
    "                print(f'O numero {i} é igual que 60')\n",
    "    else:\n",
    "            print(f'O numero {i} é maior que 60')\n"
   ]
  }
 ],
 "metadata": {
  "kernelspec": {
   "display_name": "Python 3 (ipykernel)",
   "language": "python",
   "name": "python3"
  },
  "language_info": {
   "codemirror_mode": {
    "name": "ipython",
    "version": 3
   },
   "file_extension": ".py",
   "mimetype": "text/x-python",
   "name": "python",
   "nbconvert_exporter": "python",
   "pygments_lexer": "ipython3",
   "version": "3.9.6"
  }
 },
 "nbformat": 4,
 "nbformat_minor": 5
}
