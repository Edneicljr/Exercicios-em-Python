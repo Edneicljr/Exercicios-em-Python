{
 "cells": [
  {
   "cell_type": "code",
   "execution_count": 2,
   "id": "c1994e49",
   "metadata": {},
   "outputs": [],
   "source": [
    "dados_cidades = {\n",
    "    'nome': 'São Paulo', \n",
    "    'Estado': 'São Paulo',\n",
    "    'area_km2': 1521,\n",
    "    'populacao_milhoes': 12.18,\n",
    "}"
   ]
  },
  {
   "cell_type": "code",
   "execution_count": 3,
   "id": "1f8ce733",
   "metadata": {},
   "outputs": [
    {
     "name": "stdout",
     "output_type": "stream",
     "text": [
      "<class 'dict'>\n"
     ]
    }
   ],
   "source": [
    "print(type(dados_cidades))"
   ]
  },
  {
   "cell_type": "code",
   "execution_count": 4,
   "id": "c4cf2a61",
   "metadata": {},
   "outputs": [
    {
     "name": "stdout",
     "output_type": "stream",
     "text": [
      "{'nome': 'São Paulo', 'Estado': 'São Paulo', 'area_km2': 1521, 'populacao_milhoes': 12.18}\n"
     ]
    }
   ],
   "source": [
    "print(dados_cidades)"
   ]
  },
  {
   "cell_type": "code",
   "execution_count": 6,
   "id": "28f55305",
   "metadata": {},
   "outputs": [],
   "source": [
    "dados_cidades['país'] = 'Brasil'"
   ]
  },
  {
   "cell_type": "code",
   "execution_count": 7,
   "id": "5df68c89",
   "metadata": {},
   "outputs": [
    {
     "name": "stdout",
     "output_type": "stream",
     "text": [
      "{'nome': 'São Paulo', 'Estado': 'São Paulo', 'area_km2': 1521, 'populacao_milhoes': 12.18, 'país': 'Brasil'}\n"
     ]
    }
   ],
   "source": [
    "print(dados_cidades)"
   ]
  },
  {
   "cell_type": "code",
   "execution_count": 10,
   "id": "bf2eb8d8",
   "metadata": {},
   "outputs": [
    {
     "name": "stdout",
     "output_type": "stream",
     "text": [
      "{'nome': 'São Paulo', 'Estado': 'São Paulo', 'area_km2': 1500, 'populacao_milhoes': 12.18, 'país': 'Brasil'}\n"
     ]
    }
   ],
   "source": [
    "dados_cidades['area_km2'] = 1500\n",
    "print(dados_cidades)"
   ]
  },
  {
   "cell_type": "code",
   "execution_count": 16,
   "id": "07ebbb3d",
   "metadata": {},
   "outputs": [],
   "source": [
    "dados_cidades4 = dados_cidades.copy()\n"
   ]
  },
  {
   "cell_type": "code",
   "execution_count": 17,
   "id": "b507b2e9",
   "metadata": {},
   "outputs": [
    {
     "name": "stdout",
     "output_type": "stream",
     "text": [
      "{'nome': 'São Paulo', 'Estado': 'São Paulo', 'area_km2': 1500, 'populacao_milhoes': 12.18, 'país': 'Brasil', 'pais': 'Letônia'}\n",
      "{'nome': 'São Paulo', 'Estado': 'São Paulo', 'area_km2': 1500, 'populacao_milhoes': 12.18, 'país': 'Brasil', 'pais': 'Esse'}\n"
     ]
    }
   ],
   "source": [
    "dados_cidades4['pais'] = 'Esse'\n",
    "print(dados_cidades)\n",
    "print(dados_cidades4)"
   ]
  },
  {
   "cell_type": "code",
   "execution_count": 22,
   "id": "68df6005",
   "metadata": {},
   "outputs": [
    {
     "name": "stdout",
     "output_type": "stream",
     "text": [
      "{'nome': 'São Paulo', 'Estado': 'São Paulo', 'area_km2': 1500, 'populacao_milhoes': 15, 'país': 'Brasil', 'pais': 'Letônia', 'fundacao': '25/01/1554', 'carro': 'mercedes'}\n"
     ]
    }
   ],
   "source": [
    "novos_dados= {\n",
    "    'populacao_milhoes': 15,\n",
    "    'fundacao': '25/01/1554',\n",
    "    'carro': 'mercedes'\n",
    "}\n",
    "\n",
    "dados_cidades.update(novos_dados)\n",
    "print(dados_cidades)\n"
   ]
  },
  {
   "cell_type": "code",
   "execution_count": 21,
   "id": "6245ecb0",
   "metadata": {},
   "outputs": [
    {
     "ename": "NameError",
     "evalue": "name 'dados' is not defined",
     "output_type": "error",
     "traceback": [
      "\u001b[1;31m---------------------------------------------------------------------------\u001b[0m",
      "\u001b[1;31mNameError\u001b[0m                                 Traceback (most recent call last)",
      "\u001b[1;32mC:\\Users\\EDNIJR~1\\AppData\\Local\\Temp/ipykernel_5392/3557417137.py\u001b[0m in \u001b[0;36m<module>\u001b[1;34m\u001b[0m\n\u001b[1;32m----> 1\u001b[1;33m \u001b[0mdados\u001b[0m\u001b[1;33m.\u001b[0m\u001b[0mcidades\u001b[0m\u001b[1;33m[\u001b[0m\u001b[1;34m'prefeito'\u001b[0m\u001b[1;33m]\u001b[0m\u001b[1;33m\u001b[0m\u001b[1;33m\u001b[0m\u001b[0m\n\u001b[0m",
      "\u001b[1;31mNameError\u001b[0m: name 'dados' is not defined"
     ]
    }
   ],
   "source": [
    "dados.cidades['prefeito']"
   ]
  },
  {
   "cell_type": "code",
   "execution_count": 23,
   "id": "f019ba3f",
   "metadata": {},
   "outputs": [
    {
     "name": "stdout",
     "output_type": "stream",
     "text": [
      "None\n"
     ]
    }
   ],
   "source": [
    "print(dados_cidades.get('prefeito'))"
   ]
  },
  {
   "cell_type": "code",
   "execution_count": 25,
   "id": "452758e3",
   "metadata": {},
   "outputs": [
    {
     "name": "stdout",
     "output_type": "stream",
     "text": [
      "dict_keys(['nome', 'Estado', 'area_km2', 'populacao_milhoes', 'país', 'pais', 'fundacao', 'carro'])\n",
      "dict_values(['São Paulo', 'São Paulo', 1500, 15, 'Brasil', 'Letônia', '25/01/1554', 'mercedes'])\n",
      "dict_items([('nome', 'São Paulo'), ('Estado', 'São Paulo'), ('area_km2', 1500), ('populacao_milhoes', 15), ('país', 'Brasil'), ('pais', 'Letônia'), ('fundacao', '25/01/1554'), ('carro', 'mercedes')])\n"
     ]
    }
   ],
   "source": [
    "print(dados_cidades.keys())\n",
    "print(dados_cidades.values())\n",
    "print(dados_cidades.items())"
   ]
  },
  {
   "cell_type": "code",
   "execution_count": null,
   "id": "976fd308",
   "metadata": {},
   "outputs": [],
   "source": []
  }
 ],
 "metadata": {
  "kernelspec": {
   "display_name": "Python 3 (ipykernel)",
   "language": "python",
   "name": "python3"
  },
  "language_info": {
   "codemirror_mode": {
    "name": "ipython",
    "version": 3
   },
   "file_extension": ".py",
   "mimetype": "text/x-python",
   "name": "python",
   "nbconvert_exporter": "python",
   "pygments_lexer": "ipython3",
   "version": "3.9.6"
  }
 },
 "nbformat": 4,
 "nbformat_minor": 5
}
