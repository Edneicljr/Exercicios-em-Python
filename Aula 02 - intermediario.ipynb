{
 "cells": [
  {
   "cell_type": "code",
   "execution_count": 1,
   "id": "0b8b42a7",
   "metadata": {},
   "outputs": [],
   "source": [
    "empresa = 'google'"
   ]
  },
  {
   "cell_type": "code",
   "execution_count": 2,
   "id": "86a44ca8",
   "metadata": {},
   "outputs": [
    {
     "name": "stdout",
     "output_type": "stream",
     "text": [
      "google\n"
     ]
    }
   ],
   "source": [
    "print(empresa\n",
    "     )"
   ]
  },
  {
   "cell_type": "code",
   "execution_count": 3,
   "id": "6fb019fa",
   "metadata": {},
   "outputs": [
    {
     "name": "stdout",
     "output_type": "stream",
     "text": [
      "Let's Code\n"
     ]
    }
   ],
   "source": [
    "empresa = \"Let's Code\"\n",
    "print(empresa)"
   ]
  },
  {
   "cell_type": "code",
   "execution_count": 4,
   "id": "33b8d2ba",
   "metadata": {},
   "outputs": [],
   "source": [
    "frase = \"O professor Pietro da Let's Code disse: \\\" Hoje a pizza é por minha conta\\\"\""
   ]
  },
  {
   "cell_type": "code",
   "execution_count": 5,
   "id": "8e554497",
   "metadata": {},
   "outputs": [
    {
     "name": "stdout",
     "output_type": "stream",
     "text": [
      "O professor Pietro da Let's Code disse: \" Hoje a pizza é por minha conta\"\n"
     ]
    }
   ],
   "source": [
    "print(frase)"
   ]
  },
  {
   "cell_type": "code",
   "execution_count": 6,
   "id": "41726a5a",
   "metadata": {},
   "outputs": [
    {
     "name": "stdout",
     "output_type": "stream",
     "text": [
      "['O', ' ', 'p', 'r', 'o', 'f', 'e', 's', 's', 'o', 'r', ' ', 'P', 'i', 'e', 't', 'r', 'o', ' ', 'd', 'a', ' ', 'L', 'e', 't', \"'\", 's', ' ', 'C', 'o', 'd', 'e', ' ', 'd', 'i', 's', 's', 'e', ':', ' ', '\"', ' ', 'H', 'o', 'j', 'e', ' ', 'a', ' ', 'p', 'i', 'z', 'z', 'a', ' ', 'é', ' ', 'p', 'o', 'r', ' ', 'm', 'i', 'n', 'h', 'a', ' ', 'c', 'o', 'n', 't', 'a', '\"']\n"
     ]
    }
   ],
   "source": [
    "listafrase = list(frase)\n",
    "print(listafrase)"
   ]
  },
  {
   "cell_type": "code",
   "execution_count": 7,
   "id": "e7c87714",
   "metadata": {},
   "outputs": [
    {
     "data": {
      "text/plain": [
       "73"
      ]
     },
     "execution_count": 7,
     "metadata": {},
     "output_type": "execute_result"
    }
   ],
   "source": [
    "len(frase)"
   ]
  },
  {
   "cell_type": "code",
   "execution_count": 8,
   "id": "d8c679b5",
   "metadata": {},
   "outputs": [
    {
     "data": {
      "text/plain": [
       "['In',\n",
       " 'Out',\n",
       " '_',\n",
       " '_7',\n",
       " '__',\n",
       " '___',\n",
       " '__builtin__',\n",
       " '__builtins__',\n",
       " '__doc__',\n",
       " '__loader__',\n",
       " '__name__',\n",
       " '__package__',\n",
       " '__spec__',\n",
       " '_dh',\n",
       " '_i',\n",
       " '_i1',\n",
       " '_i2',\n",
       " '_i3',\n",
       " '_i4',\n",
       " '_i5',\n",
       " '_i6',\n",
       " '_i7',\n",
       " '_i8',\n",
       " '_ih',\n",
       " '_ii',\n",
       " '_iii',\n",
       " '_oh',\n",
       " 'empresa',\n",
       " 'exit',\n",
       " 'frase',\n",
       " 'get_ipython',\n",
       " 'listafrase',\n",
       " 'quit']"
      ]
     },
     "execution_count": 8,
     "metadata": {},
     "output_type": "execute_result"
    }
   ],
   "source": [
    "dir()"
   ]
  },
  {
   "cell_type": "code",
   "execution_count": 14,
   "id": "b72d0388",
   "metadata": {},
   "outputs": [
    {
     "data": {
      "text/plain": [
       "['__add__',\n",
       " '__class__',\n",
       " '__class_getitem__',\n",
       " '__contains__',\n",
       " '__delattr__',\n",
       " '__delitem__',\n",
       " '__dir__',\n",
       " '__doc__',\n",
       " '__eq__',\n",
       " '__format__',\n",
       " '__ge__',\n",
       " '__getattribute__',\n",
       " '__getitem__',\n",
       " '__gt__',\n",
       " '__hash__',\n",
       " '__iadd__',\n",
       " '__imul__',\n",
       " '__init__',\n",
       " '__init_subclass__',\n",
       " '__iter__',\n",
       " '__le__',\n",
       " '__len__',\n",
       " '__lt__',\n",
       " '__mul__',\n",
       " '__ne__',\n",
       " '__new__',\n",
       " '__reduce__',\n",
       " '__reduce_ex__',\n",
       " '__repr__',\n",
       " '__reversed__',\n",
       " '__rmul__',\n",
       " '__setattr__',\n",
       " '__setitem__',\n",
       " '__sizeof__',\n",
       " '__str__',\n",
       " '__subclasshook__',\n",
       " 'append',\n",
       " 'clear',\n",
       " 'copy',\n",
       " 'count',\n",
       " 'extend',\n",
       " 'index',\n",
       " 'insert',\n",
       " 'pop',\n",
       " 'remove',\n",
       " 'reverse',\n",
       " 'sort']"
      ]
     },
     "execution_count": 14,
     "metadata": {},
     "output_type": "execute_result"
    }
   ],
   "source": [
    "dir(listafrase)"
   ]
  },
  {
   "cell_type": "code",
   "execution_count": 28,
   "id": "0bfa009d",
   "metadata": {},
   "outputs": [
    {
     "name": "stdout",
     "output_type": "stream",
     "text": [
      "None\n"
     ]
    }
   ],
   "source": [
    "sem = listafrase.remove(' ')\n",
    "print(sem)"
   ]
  },
  {
   "cell_type": "code",
   "execution_count": 21,
   "id": "90db5feb",
   "metadata": {},
   "outputs": [
    {
     "name": "stdout",
     "output_type": "stream",
     "text": [
      "O-py -pyp-pyr-pyo-pyf-pye-pys-pys-pyo-pyr-py -pyP-pyi-pye-pyt-pyr-pyo-py -pyd-pya-py -pyL-pye-pyt-py'-pys-py -pyC-pyo-pyd-pye-py -pyd-pyi-pys-pys-pye-py:-py -py\"-py -pyH-pyo-pyj-pye-py -pya-py -pyp-pyi-pyz-pyz-pya-py -pyé-py -pyp-pyo-pyr-py -pym-pyi-pyn-pyh-pya-py -pyc-pyo-pyn-pyt-pya-py\"\n"
     ]
    }
   ],
   "source": [
    "stringfinal = '-py'.join(listafrase)\n",
    "print(stringfinal)"
   ]
  },
  {
   "cell_type": "code",
   "execution_count": 62,
   "id": "450c504c",
   "metadata": {},
   "outputs": [
    {
     "name": "stdout",
     "output_type": "stream",
     "text": [
      "['O', 'professor', 'Pietro', 'da', \"Let's\", 'Code', 'disse:', '\"', 'Hoje', 'a', 'pizza', 'é', 'por', 'minha', 'conta\"']\n"
     ]
    }
   ],
   "source": [
    "frase = frase.split(' ')\n",
    "print(frase)\n"
   ]
  },
  {
   "cell_type": "code",
   "execution_count": 89,
   "id": "3cfddaf6",
   "metadata": {},
   "outputs": [
    {
     "name": "stdout",
     "output_type": "stream",
     "text": [
      "O                                                                                                                                                                                                                                                                                                                                                                                                                                                                                                                                                                                                                                                                                                                                               p                                                                                                                                                                                                                                                                                                                                                                                                                                                                                                                                                                                                                                                                                                                                               r                                                                                                                                                                                                                                                                                                                                                                                                                                                                                                                                                                                                                                                                                                                                               o                                                                                                                                                                                                                                                                                                                                                                                                                                                                                                                                                                                                                                                                                                                                               f                                                                                                                                                                                                                                                                                                                                                                                                                                                                                                                                                                                                                                                                                                                                               e                                                                                                                                                                                                                                                                                                                                                                                                                                                                                                                                                                                                                                                                                                                                               s                                                                                                                                                                                                                                                                                                                                                                                                                                                                                                                                                                                                                                                                                                                                               s                                                                                                                                                                                                                                                                                                                                                                                                                                                                                                                                                                                                                                                                                                                                               o                                                                                                                                                                                                                                                                                                                                                                                                                                                                                                                                                                                                                                                                                                                                               r                                                                                                                                                                                                                                                                                                                                                                                                                                                                                                                                                                                                                                                                                                                                               P                                                                                                                                                                                                                                                                                                                                                                                                                                                                                                                                                                                                                                                                                                                                               i                                                                                                                                                                                                                                                                                                                                                                                                                                                                                                                                                                                                                                                                                                                                               e                                                                                                                                                                                                                                                                                                                                                                                                                                                                                                                                                                                                                                                                                                                                               t                                                                                                                                                                                                                                                                                                                                                                                                                                                                                                                                                                                                                                                                                                                                               r                                                                                                                                                                                                                                                                                                                                                                                                                                                                                                                                                                                                                                                                                                                                               o                                                                                                                                                                                                                                                                                                                                                                                                                                                                                                                                                                                                                                                                                                                                               d                                                                                                                                                                                                                                                                                                                                                                                                                                                                                                                                                                                                                                                                                                                                               a                                                                                                                                                                                                                                                                                                                                                                                                                                                                                                                                                                                                                                                                                                                                               L                                                                                                                                                                                                                                                                                                                                                                                                                                                                                                                                                                                                                                                                                                                                               e                                                                                                                                                                                                                                                                                                                                                                                                                                                                                                                                                                                                                                                                                                                                               t                                                                                                                                                                                                                                                                                                                                                                                                                                                                                                                                                                                                                                                                                                                                               '                                                                                                                                                                                                                                                                                                                                                                                                                                                                                                                                                                                                                                                                                                                                               s                                                                                                                                                                                                                                                                                                                                                                                                                                                                                                                                                                                                                                                                                                                                               C                                                                                                                                                                                                                                                                                                                                                                                                                                                                                                                                                                                                                                                                                                                                               o                                                                                                                                                                                                                                                                                                                                                                                                                                                                                                                                                                                                                                                                                                                                               d                                                                                                                                                                                                                                                                                                                                                                                                                                                                                                                                                                                                                                                                                                                                               e                                                                                                                                                                                                                                                                                                                                                                                                                                                                                                                                                                                                                                                                                                                                               d                                                                                                                                                                                                                                                                                                                                                                                                                                                                                                                                                                                                                                                                                                                                               i                                                                                                                                                                                                                                                                                                                                                                                                                                                                                                                                                                                                                                                                                                                                               s                                                                                                                                                                                                                                                                                                                                                                                                                                                                                                                                                                                                                                                                                                                                               s                                                                                                                                                                                                                                                                                                                                                                                                                                                                                                                                                                                                                                                                                                                                               e                                                                                                                                                                                                                                                                                                                                                                                                                                                                                                                                                                                                                                                                                                                                               :                                                                                                                                                                                                                                                                                                                                                                                                                                                                                                                                                                                                                                                                                                                                               \"                                                                                                                                                                                                                                                                                                                                                                                                                                                                                                                                                                                                                                                                                                                                               H                                                                                                                                                                                                                                                                                                                                                                                                                                                                                                                                                                                                                                                                                                                                               o                                                                                                                                                                                                                                                                                                                                                                                                                                                                                                                                                                                                                                                                                                                                               j                                                                                                                                                                                                                                                                                                                                                                                                                                                                                                                                                                                                                                                                                                                                               e                                                                                                                                                                                                                                                                                                                                                                                                                                                                                                                                                                                                                                                                                                                                               a                                                                                                                                                                                                                                                                                                                                                                                                                                                                                                                                                                                                                                                                                                                                               p                                                                                                                                                                                                                                                                                                                                                                                                                                                                                                                                                                                                                                                                                                                                               i                                                                                                                                                                                                                                                                                                                                                                                                                                                                                                                                                                                                                                                                                                                                               z                                                                                                                                                                                                                                                                                                                                                                                                                                                                                                                                                                                                                                                                                                                                               z                                                                                                                                                                                                                                                                                                                                                                                                                                                                                                                                                                                                                                                                                                                                               a                                                                                                                                                                                                                                                                                                                                                                                                                                                                                                                                                                                                                                                                                                                                               é                                                                                                                                                                                                                                                                                                                                                                                                                                                                                                                                                                                                                                                                                                                                               p                                                                                                                                                                                                                                                                                                                                                                                                                                                                                                                                                                                                                                                                                                                                               o                                                                                                                                                                                                                                                                                                                                                                                                                                                                                                                                                                                                                                                                                                                                               r                                                                                                                                                                                                                                                                                                                                                                                                                                                                                                                                                                                                                                                                                                                                               m                                                                                                                                                                                                                                                                                                                                                                                                                                                                                                                                                                                                                                                                                                                                               i                                                                                                                                                                                                                                                                                                                                                                                                                                                                                                                                                                                                                                                                                                                                               n                                                                                                                                                                                                                                                                                                                                                                                                                                                                                                                                                                                                                                                                                                                                               h                                                                                                                                                                                                                                                                                                                                                                                                                                                                                                                                                                                                                                                                                                                                               a                                                                                                                                                                                                                                                                                                                                                                                                                                                                                                                                                                                                                                                                                                                                               c                                                                                                                                                                                                                                                                                                                                                                                                                                                                                                                                                                                                                                                                                                                                               o                                                                                                                                                                                                                                                                                                                                                                                                                                                                                                                                                                                                                                                                                                                                               n                                                                                                                                                                                                                                                                                                                                                                                                                                                                                                                                                                                                                                                                                                                                               t                                                                                                                                                                                                                                                                                                                                                                                                                                                                                                                                                                                                                                                                                                                                               a                                                                                                                                                                                                                                                                                                                                                                                                                                                                                                                                                                                                                                                                                                                                               \"\n"
     ]
    }
   ],
   "source": [
    "frase = '     '.join(frase)\n",
    "print(frase)"
   ]
  },
  {
   "cell_type": "code",
   "execution_count": 24,
   "id": "f87780cc",
   "metadata": {},
   "outputs": [
    {
     "name": "stdout",
     "output_type": "stream",
     "text": [
      "O professor Pietro da Let's Code disse: \" Hoje a pizza é por minha conta\"\n"
     ]
    }
   ],
   "source": [
    "stringfinal = ''.join(listafrase)\n",
    "print(stringfinal)"
   ]
  },
  {
   "cell_type": "code",
   "execution_count": 49,
   "id": "b7d97760",
   "metadata": {},
   "outputs": [
    {
     "name": "stdout",
     "output_type": "stream",
     "text": [
      "O professor pietro da let's code disse: \" hoje a pizza é por minha conta\"\n",
      "O Professor Pietro Da Let'S Code Disse: \" Hoje A Pizza É Por Minha Conta\"\n",
      "o professor pietro da let's code disse: \" hoje a pizza é por minha conta\"\n",
      "O PROFESSOR PIETRO DA LET'S CODE DISSE: \" HOJE A PIZZA É POR MINHA CONTA\"\n",
      "O-professor-Pietro-da-Let's-Code-disse:-\"-Hoje-a-pizza-é-por-minha-conta\"\n"
     ]
    }
   ],
   "source": [
    "s = [1,2,3,4,5,6]\n",
    "\n",
    "s[1] = frase.capitalize()\n",
    "s[2] = frase.title()\n",
    "s[3] = frase.lower()\n",
    "s[4] = frase.upper()\n",
    "s[5] = frase.replace(' ','-')\n",
    "\n",
    "for i in range(1,6):\n",
    "    print(s[i])"
   ]
  },
  {
   "cell_type": "code",
   "execution_count": 50,
   "id": "8549b831",
   "metadata": {},
   "outputs": [
    {
     "name": "stdout",
     "output_type": "stream",
     "text": [
      "O professor pietro da let's code disse: \" hoje a pizza é por minha conta\"\n",
      "O Professor Pietro Da Let'S Code Disse: \" Hoje A Pizza É Por Minha Conta\"\n",
      "o professor pietro da let's code disse: \" hoje a pizza é por minha conta\"\n",
      "O PROFESSOR PIETRO DA LET'S CODE DISSE: \" HOJE A PIZZA É POR MINHA CONTA\"\n",
      "O-professor-Pietro-da-Let's-Code-disse:-\"-Hoje-a-pizza-é-por-minha-conta\"\n"
     ]
    }
   ],
   "source": [
    "s = list(range(1,7))\n",
    "#[1,2,3,4,5,6]\n",
    "\n",
    "s[1] = frase.capitalize()\n",
    "s[2] = frase.title()\n",
    "s[3] = frase.lower()\n",
    "s[4] = frase.upper()\n",
    "s[5] = frase.replace(' ','-')\n",
    "\n",
    "for i in range(1,6):\n",
    "    print(s[i])"
   ]
  },
  {
   "cell_type": "code",
   "execution_count": 52,
   "id": "bcf91edb",
   "metadata": {},
   "outputs": [
    {
     "name": "stdout",
     "output_type": "stream",
     "text": [
      "g\n"
     ]
    }
   ],
   "source": [
    "empresa = 'google'\n",
    "print(empresa[0])"
   ]
  },
  {
   "cell_type": "code",
   "execution_count": 53,
   "id": "5c2b7a5f",
   "metadata": {},
   "outputs": [
    {
     "name": "stdout",
     "output_type": "stream",
     "text": [
      "goo\n"
     ]
    }
   ],
   "source": [
    "empresa = 'google'\n",
    "print(empresa[:3])"
   ]
  },
  {
   "cell_type": "code",
   "execution_count": 54,
   "id": "11087aea",
   "metadata": {},
   "outputs": [
    {
     "name": "stdout",
     "output_type": "stream",
     "text": [
      "google\n"
     ]
    }
   ],
   "source": [
    "empresa = 'google'\n",
    "print(empresa[::])"
   ]
  },
  {
   "cell_type": "code",
   "execution_count": 18,
   "id": "d0a4defb",
   "metadata": {
    "ExecuteTime": {
     "end_time": "2021-07-20T14:38:59.162286Z",
     "start_time": "2021-07-20T14:38:59.156286Z"
    }
   },
   "outputs": [
    {
     "name": "stdout",
     "output_type": "stream",
     "text": [
      "google\n"
     ]
    }
   ],
   "source": [
    "empresa = 'google'\n",
    "print(empresa[:])"
   ]
  },
  {
   "cell_type": "code",
   "execution_count": 56,
   "id": "2e6fe07c",
   "metadata": {},
   "outputs": [
    {
     "name": "stdout",
     "output_type": "stream",
     "text": [
      "gol\n"
     ]
    }
   ],
   "source": [
    "empresa = 'google'\n",
    "print(empresa[::2])"
   ]
  },
  {
   "cell_type": "code",
   "execution_count": 13,
   "id": "8dcacb26",
   "metadata": {
    "ExecuteTime": {
     "end_time": "2021-07-20T14:38:24.327579Z",
     "start_time": "2021-07-20T14:38:24.307591Z"
    }
   },
   "outputs": [
    {
     "name": "stdout",
     "output_type": "stream",
     "text": [
      "('\\nSão Paulo', '\\nBelo Horizonte', '\\nRio de Janeiro', '\\nBrasilia')\n",
      "\n",
      " \n",
      "São Paulo \n",
      "Belo Horizonte \n",
      "Rio de Janeiro \n",
      "Brasilia\n"
     ]
    }
   ],
   "source": [
    "nomes_cidades = \"\\nSão Paulo\", \"\\nBelo Horizonte\", \"\\nRio de Janeiro\", \"\\nBrasilia\"\n",
    "tuple(nomes_cidades,)\n",
    "print(nomes_cidades)\n",
    "S, B, R, A  = nomes_cidades\n",
    "print(* '\\n',S, B, R, A)"
   ]
  },
  {
   "cell_type": "code",
   "execution_count": 91,
   "id": "f51e1657",
   "metadata": {},
   "outputs": [
    {
     "name": "stdout",
     "output_type": "stream",
     "text": [
      "MENU PRINCIPAL\n"
     ]
    }
   ],
   "source": [
    "cabecalho = \"                MENU PRINCIPAL               \"\n",
    "print(cabecalho.strip())"
   ]
  },
  {
   "cell_type": "code",
   "execution_count": 95,
   "id": "38450748",
   "metadata": {},
   "outputs": [
    {
     "name": "stdout",
     "output_type": "stream",
     "text": [
      "Qual cidade tem o Cristo redentor?Salvador\n",
      "Tenta de novo..\n",
      "Qual cidade tem o Cristo redentor?Paris\n",
      "Tenta de novo..\n",
      "Qual cidade tem o Cristo redentor?Nova York\n",
      "Tenta de novo..\n",
      "Qual cidade tem o Cristo redentor?R i O de JANEI RO\n",
      "Tenta de novo..\n",
      "Qual cidade tem o Cristo redentor?RiO de JANeiro\n",
      "Acertou!!\n"
     ]
    }
   ],
   "source": [
    "nome_cidade1 = input(\"Qual cidade tem o Cristo redentor?\")\n",
    "nome_cidade1 = nome_cidade1.strip() #remove espaços em branco\n",
    "while nome_cidade1.lower() != 'rio de janeiro':\n",
    "    print(\"Tenta de novo..\")\n",
    "    nome_cidade1 = input(\"Qual cidade tem o Cristo redentor?\")\n",
    "\n",
    "print(\"Acertou!!\")\n"
   ]
  },
  {
   "cell_type": "code",
   "execution_count": 96,
   "id": "88a5b6ed",
   "metadata": {},
   "outputs": [
    {
     "name": "stdout",
     "output_type": "stream",
     "text": [
      "Qual cidade tem o Cristo redentor?rio de janeiro\n",
      "Acertou!!\n"
     ]
    }
   ],
   "source": [
    "nome_cidade1 = input(\"Qual cidade tem o Cristo redentor?\")\n",
    "nome_cidade1 = nome_cidade1.strip() #remove espaços em branco\n",
    "while nome_cidade1.lower() != 'rio de janeiro':\n",
    "    print(\"Tenta de novo..\")\n",
    "    nome_cidade1 = input(\"Qual cidade tem o Cristo redentor?\")\n",
    "\n",
    "print(\"Acertou!!\")\n"
   ]
  },
  {
   "cell_type": "code",
   "execution_count": 98,
   "id": "0bb664c4",
   "metadata": {},
   "outputs": [
    {
     "name": "stdout",
     "output_type": "stream",
     "text": [
      "True\n"
     ]
    }
   ],
   "source": [
    "mensagem = \"Você viu o Pietro ontem?\"\n",
    "fui_citado = 'Pietro' in mensagem\n",
    "print(fui_citado)"
   ]
  },
  {
   "cell_type": "code",
   "execution_count": null,
   "id": "6dfb5276",
   "metadata": {},
   "outputs": [],
   "source": []
  }
 ],
 "metadata": {
  "hide_input": false,
  "kernelspec": {
   "display_name": "Python 3 (ipykernel)",
   "language": "python",
   "name": "python3"
  },
  "language_info": {
   "codemirror_mode": {
    "name": "ipython",
    "version": 3
   },
   "file_extension": ".py",
   "mimetype": "text/x-python",
   "name": "python",
   "nbconvert_exporter": "python",
   "pygments_lexer": "ipython3",
   "version": "3.9.6"
  },
  "varInspector": {
   "cols": {
    "lenName": 16,
    "lenType": 16,
    "lenVar": 40
   },
   "kernels_config": {
    "python": {
     "delete_cmd_postfix": "",
     "delete_cmd_prefix": "del ",
     "library": "var_list.py",
     "varRefreshCmd": "print(var_dic_list())"
    },
    "r": {
     "delete_cmd_postfix": ") ",
     "delete_cmd_prefix": "rm(",
     "library": "var_list.r",
     "varRefreshCmd": "cat(var_dic_list()) "
    }
   },
   "types_to_exclude": [
    "module",
    "function",
    "builtin_function_or_method",
    "instance",
    "_Feature"
   ],
   "window_display": false
  }
 },
 "nbformat": 4,
 "nbformat_minor": 5
}
